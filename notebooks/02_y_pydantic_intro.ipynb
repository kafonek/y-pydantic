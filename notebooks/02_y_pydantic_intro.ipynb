{
 "cells": [
  {
   "cell_type": "code",
   "execution_count": 1,
   "id": "b3e01033",
   "metadata": {},
   "outputs": [
    {
     "data": {
      "application/javascript": [
       "\n",
       "            setTimeout(function() {\n",
       "                var nbb_cell_id = 1;\n",
       "                var nbb_unformatted_code = \"%load_ext nb_black\";\n",
       "                var nbb_formatted_code = \"%load_ext nb_black\";\n",
       "                var nbb_cells = Jupyter.notebook.get_cells();\n",
       "                for (var i = 0; i < nbb_cells.length; ++i) {\n",
       "                    if (nbb_cells[i].input_prompt_number == nbb_cell_id) {\n",
       "                        if (nbb_cells[i].get_text() == nbb_unformatted_code) {\n",
       "                             nbb_cells[i].set_text(nbb_formatted_code);\n",
       "                        }\n",
       "                        break;\n",
       "                    }\n",
       "                }\n",
       "            }, 500);\n",
       "            "
      ],
      "text/plain": [
       "<IPython.core.display.Javascript object>"
      ]
     },
     "metadata": {},
     "output_type": "display_data"
    }
   ],
   "source": [
    "%load_ext nb_black"
   ]
  },
  {
   "cell_type": "markdown",
   "id": "22e78725",
   "metadata": {},
   "source": [
    "## TextBinding\n",
    "\n",
    "As an introduction to `y-pydantic`, let's look at a TextBinding. It wraps a `YText` reference, and also needs a reference to the `YDoc` CRDT in order to observe changes made to the `YText`, and make changes itself."
   ]
  },
  {
   "cell_type": "code",
   "execution_count": 2,
   "id": "4ba9eab0",
   "metadata": {},
   "outputs": [
    {
     "data": {
      "application/javascript": [
       "\n",
       "            setTimeout(function() {\n",
       "                var nbb_cell_id = 2;\n",
       "                var nbb_unformatted_code = \"import y_py as Y\\n\\ndoc = Y.YDoc()\";\n",
       "                var nbb_formatted_code = \"import y_py as Y\\n\\ndoc = Y.YDoc()\";\n",
       "                var nbb_cells = Jupyter.notebook.get_cells();\n",
       "                for (var i = 0; i < nbb_cells.length; ++i) {\n",
       "                    if (nbb_cells[i].input_prompt_number == nbb_cell_id) {\n",
       "                        if (nbb_cells[i].get_text() == nbb_unformatted_code) {\n",
       "                             nbb_cells[i].set_text(nbb_formatted_code);\n",
       "                        }\n",
       "                        break;\n",
       "                    }\n",
       "                }\n",
       "            }, 500);\n",
       "            "
      ],
      "text/plain": [
       "<IPython.core.display.Javascript object>"
      ]
     },
     "metadata": {},
     "output_type": "display_data"
    }
   ],
   "source": [
    "import y_py as Y\n",
    "\n",
    "doc = Y.YDoc()"
   ]
  },
  {
   "cell_type": "code",
   "execution_count": 3,
   "id": "319fb598",
   "metadata": {},
   "outputs": [
    {
     "data": {
      "text/plain": [
       "<TextBinding >"
      ]
     },
     "execution_count": 3,
     "metadata": {},
     "output_type": "execute_result"
    },
    {
     "data": {
      "application/javascript": [
       "\n",
       "            setTimeout(function() {\n",
       "                var nbb_cell_id = 3;\n",
       "                var nbb_unformatted_code = \"from y_pydantic import TextBinding\\n\\nbinding = TextBinding(parent_doc=doc, ytext=doc.get_text(\\\"text-key\\\"))\\nbinding\";\n",
       "                var nbb_formatted_code = \"from y_pydantic import TextBinding\\n\\nbinding = TextBinding(parent_doc=doc, ytext=doc.get_text(\\\"text-key\\\"))\\nbinding\";\n",
       "                var nbb_cells = Jupyter.notebook.get_cells();\n",
       "                for (var i = 0; i < nbb_cells.length; ++i) {\n",
       "                    if (nbb_cells[i].input_prompt_number == nbb_cell_id) {\n",
       "                        if (nbb_cells[i].get_text() == nbb_unformatted_code) {\n",
       "                             nbb_cells[i].set_text(nbb_formatted_code);\n",
       "                        }\n",
       "                        break;\n",
       "                    }\n",
       "                }\n",
       "            }, 500);\n",
       "            "
      ],
      "text/plain": [
       "<IPython.core.display.Javascript object>"
      ]
     },
     "metadata": {},
     "output_type": "display_data"
    }
   ],
   "source": [
    "from y_pydantic import TextBinding\n",
    "\n",
    "binding = TextBinding(parent_doc=doc, ytext=doc.get_text(\"text-key\"))\n",
    "binding"
   ]
  },
  {
   "cell_type": "code",
   "execution_count": 4,
   "id": "d622f7fe",
   "metadata": {},
   "outputs": [
    {
     "data": {
      "text/plain": [
       "TextModel(items=[], deleted=[])"
      ]
     },
     "execution_count": 4,
     "metadata": {},
     "output_type": "execute_result"
    },
    {
     "data": {
      "application/javascript": [
       "\n",
       "            setTimeout(function() {\n",
       "                var nbb_cell_id = 4;\n",
       "                var nbb_unformatted_code = \"# Each y-pydantic Binding has a pydantic Model representing\\n# its Y shared data type. For a YText, we have a TextModel.\\n# Each TextModel.items entry will be a TextItem, more on that later.\\nbinding.model\";\n",
       "                var nbb_formatted_code = \"# Each y-pydantic Binding has a pydantic Model representing\\n# its Y shared data type. For a YText, we have a TextModel.\\n# Each TextModel.items entry will be a TextItem, more on that later.\\nbinding.model\";\n",
       "                var nbb_cells = Jupyter.notebook.get_cells();\n",
       "                for (var i = 0; i < nbb_cells.length; ++i) {\n",
       "                    if (nbb_cells[i].input_prompt_number == nbb_cell_id) {\n",
       "                        if (nbb_cells[i].get_text() == nbb_unformatted_code) {\n",
       "                             nbb_cells[i].set_text(nbb_formatted_code);\n",
       "                        }\n",
       "                        break;\n",
       "                    }\n",
       "                }\n",
       "            }, 500);\n",
       "            "
      ],
      "text/plain": [
       "<IPython.core.display.Javascript object>"
      ]
     },
     "metadata": {},
     "output_type": "display_data"
    }
   ],
   "source": [
    "# Each y-pydantic Binding has a pydantic Model representing\n",
    "# its Y shared data type. For a YText, we have a TextModel.\n",
    "# Each TextModel.items entry will be a TextItem, more on that later.\n",
    "binding.model"
   ]
  },
  {
   "cell_type": "code",
   "execution_count": 5,
   "id": "03883038",
   "metadata": {},
   "outputs": [
    {
     "data": {
      "text/plain": [
       "YText()"
      ]
     },
     "execution_count": 5,
     "metadata": {},
     "output_type": "execute_result"
    },
    {
     "data": {
      "application/javascript": [
       "\n",
       "            setTimeout(function() {\n",
       "                var nbb_cell_id = 5;\n",
       "                var nbb_unformatted_code = \"binding.ytext\";\n",
       "                var nbb_formatted_code = \"binding.ytext\";\n",
       "                var nbb_cells = Jupyter.notebook.get_cells();\n",
       "                for (var i = 0; i < nbb_cells.length; ++i) {\n",
       "                    if (nbb_cells[i].input_prompt_number == nbb_cell_id) {\n",
       "                        if (nbb_cells[i].get_text() == nbb_unformatted_code) {\n",
       "                             nbb_cells[i].set_text(nbb_formatted_code);\n",
       "                        }\n",
       "                        break;\n",
       "                    }\n",
       "                }\n",
       "            }, 500);\n",
       "            "
      ],
      "text/plain": [
       "<IPython.core.display.Javascript object>"
      ]
     },
     "metadata": {},
     "output_type": "display_data"
    }
   ],
   "source": [
    "binding.ytext"
   ]
  },
  {
   "cell_type": "code",
   "execution_count": 6,
   "id": "bdc92ee2",
   "metadata": {},
   "outputs": [
    {
     "data": {
      "text/plain": [
       "YText(foo)"
      ]
     },
     "execution_count": 6,
     "metadata": {},
     "output_type": "execute_result"
    },
    {
     "data": {
      "application/javascript": [
       "\n",
       "            setTimeout(function() {\n",
       "                var nbb_cell_id = 6;\n",
       "                var nbb_unformatted_code = \"# Add some text using the vanilla Y-py document / txn syntax\\nwith doc.begin_transaction() as txn:\\n    doc.get_text(\\\"text-key\\\").extend(txn, \\\"foo\\\")\\n\\ndoc.get_text(\\\"text-key\\\")\";\n",
       "                var nbb_formatted_code = \"# Add some text using the vanilla Y-py document / txn syntax\\nwith doc.begin_transaction() as txn:\\n    doc.get_text(\\\"text-key\\\").extend(txn, \\\"foo\\\")\\n\\ndoc.get_text(\\\"text-key\\\")\";\n",
       "                var nbb_cells = Jupyter.notebook.get_cells();\n",
       "                for (var i = 0; i < nbb_cells.length; ++i) {\n",
       "                    if (nbb_cells[i].input_prompt_number == nbb_cell_id) {\n",
       "                        if (nbb_cells[i].get_text() == nbb_unformatted_code) {\n",
       "                             nbb_cells[i].set_text(nbb_formatted_code);\n",
       "                        }\n",
       "                        break;\n",
       "                    }\n",
       "                }\n",
       "            }, 500);\n",
       "            "
      ],
      "text/plain": [
       "<IPython.core.display.Javascript object>"
      ]
     },
     "metadata": {},
     "output_type": "display_data"
    }
   ],
   "source": [
    "# Add some text using the vanilla Y-py document / txn syntax\n",
    "with doc.begin_transaction() as txn:\n",
    "    doc.get_text(\"text-key\").extend(txn, \"foo\")\n",
    "\n",
    "doc.get_text(\"text-key\")"
   ]
  },
  {
   "cell_type": "code",
   "execution_count": 7,
   "id": "3b3024ab",
   "metadata": {},
   "outputs": [
    {
     "data": {
      "text/plain": [
       "YText(foo)"
      ]
     },
     "execution_count": 7,
     "metadata": {},
     "output_type": "execute_result"
    },
    {
     "data": {
      "application/javascript": [
       "\n",
       "            setTimeout(function() {\n",
       "                var nbb_cell_id = 7;\n",
       "                var nbb_unformatted_code = \"# same way to reference the YText shared data type\\nbinding.ytext\";\n",
       "                var nbb_formatted_code = \"# same way to reference the YText shared data type\\nbinding.ytext\";\n",
       "                var nbb_cells = Jupyter.notebook.get_cells();\n",
       "                for (var i = 0; i < nbb_cells.length; ++i) {\n",
       "                    if (nbb_cells[i].input_prompt_number == nbb_cell_id) {\n",
       "                        if (nbb_cells[i].get_text() == nbb_unformatted_code) {\n",
       "                             nbb_cells[i].set_text(nbb_formatted_code);\n",
       "                        }\n",
       "                        break;\n",
       "                    }\n",
       "                }\n",
       "            }, 500);\n",
       "            "
      ],
      "text/plain": [
       "<IPython.core.display.Javascript object>"
      ]
     },
     "metadata": {},
     "output_type": "display_data"
    }
   ],
   "source": [
    "# same way to reference the YText shared data type\n",
    "binding.ytext"
   ]
  },
  {
   "cell_type": "code",
   "execution_count": 8,
   "id": "42f78ba8",
   "metadata": {},
   "outputs": [
    {
     "data": {
      "text/plain": [
       "<TextBinding foo>"
      ]
     },
     "execution_count": 8,
     "metadata": {},
     "output_type": "execute_result"
    },
    {
     "data": {
      "application/javascript": [
       "\n",
       "            setTimeout(function() {\n",
       "                var nbb_cell_id = 8;\n",
       "                var nbb_unformatted_code = \"# repr of the binding has similar repr to YText\\nbinding\";\n",
       "                var nbb_formatted_code = \"# repr of the binding has similar repr to YText\\nbinding\";\n",
       "                var nbb_cells = Jupyter.notebook.get_cells();\n",
       "                for (var i = 0; i < nbb_cells.length; ++i) {\n",
       "                    if (nbb_cells[i].input_prompt_number == nbb_cell_id) {\n",
       "                        if (nbb_cells[i].get_text() == nbb_unformatted_code) {\n",
       "                             nbb_cells[i].set_text(nbb_formatted_code);\n",
       "                        }\n",
       "                        break;\n",
       "                    }\n",
       "                }\n",
       "            }, 500);\n",
       "            "
      ],
      "text/plain": [
       "<IPython.core.display.Javascript object>"
      ]
     },
     "metadata": {},
     "output_type": "display_data"
    }
   ],
   "source": [
    "# repr of the binding has similar repr to YText\n",
    "binding"
   ]
  },
  {
   "cell_type": "code",
   "execution_count": 9,
   "id": "38f24a2c",
   "metadata": {},
   "outputs": [
    {
     "data": {
      "text/plain": [
       "True"
      ]
     },
     "execution_count": 9,
     "metadata": {},
     "output_type": "execute_result"
    },
    {
     "data": {
      "application/javascript": [
       "\n",
       "            setTimeout(function() {\n",
       "                var nbb_cell_id = 9;\n",
       "                var nbb_unformatted_code = \"# plain str output of YText and binding is always the same\\nstr(binding.ytext) == binding.plain_text\";\n",
       "                var nbb_formatted_code = \"# plain str output of YText and binding is always the same\\nstr(binding.ytext) == binding.plain_text\";\n",
       "                var nbb_cells = Jupyter.notebook.get_cells();\n",
       "                for (var i = 0; i < nbb_cells.length; ++i) {\n",
       "                    if (nbb_cells[i].input_prompt_number == nbb_cell_id) {\n",
       "                        if (nbb_cells[i].get_text() == nbb_unformatted_code) {\n",
       "                             nbb_cells[i].set_text(nbb_formatted_code);\n",
       "                        }\n",
       "                        break;\n",
       "                    }\n",
       "                }\n",
       "            }, 500);\n",
       "            "
      ],
      "text/plain": [
       "<IPython.core.display.Javascript object>"
      ]
     },
     "metadata": {},
     "output_type": "display_data"
    }
   ],
   "source": [
    "# plain str output of YText and binding is always the same\n",
    "str(binding.ytext) == binding.plain_text"
   ]
  },
  {
   "cell_type": "code",
   "execution_count": 10,
   "id": "eb19da74",
   "metadata": {},
   "outputs": [
    {
     "data": {
      "text/plain": [
       "TextModel(items=[TextItem(value='f', attributes={}), TextItem(value='o', attributes={}), TextItem(value='o', attributes={})], deleted=[])"
      ]
     },
     "execution_count": 10,
     "metadata": {},
     "output_type": "execute_result"
    },
    {
     "data": {
      "application/javascript": [
       "\n",
       "            setTimeout(function() {\n",
       "                var nbb_cell_id = 10;\n",
       "                var nbb_unformatted_code = \"# Now look at the internal Pydantic model for the binding,\\n# each item is a character in the Text string with optional\\n# arbitrary attributes associated with that character\\nbinding.model\";\n",
       "                var nbb_formatted_code = \"# Now look at the internal Pydantic model for the binding,\\n# each item is a character in the Text string with optional\\n# arbitrary attributes associated with that character\\nbinding.model\";\n",
       "                var nbb_cells = Jupyter.notebook.get_cells();\n",
       "                for (var i = 0; i < nbb_cells.length; ++i) {\n",
       "                    if (nbb_cells[i].input_prompt_number == nbb_cell_id) {\n",
       "                        if (nbb_cells[i].get_text() == nbb_unformatted_code) {\n",
       "                             nbb_cells[i].set_text(nbb_formatted_code);\n",
       "                        }\n",
       "                        break;\n",
       "                    }\n",
       "                }\n",
       "            }, 500);\n",
       "            "
      ],
      "text/plain": [
       "<IPython.core.display.Javascript object>"
      ]
     },
     "metadata": {},
     "output_type": "display_data"
    }
   ],
   "source": [
    "# Now look at the internal Pydantic model for the binding,\n",
    "# each item is a character in the Text string with optional\n",
    "# arbitrary attributes associated with that character\n",
    "binding.model"
   ]
  },
  {
   "cell_type": "code",
   "execution_count": 11,
   "id": "0223b343",
   "metadata": {},
   "outputs": [
    {
     "data": {
      "text/plain": [
       "<TextBinding foobar>"
      ]
     },
     "execution_count": 11,
     "metadata": {},
     "output_type": "execute_result"
    },
    {
     "data": {
      "application/javascript": [
       "\n",
       "            setTimeout(function() {\n",
       "                var nbb_cell_id = 11;\n",
       "                var nbb_unformatted_code = \"# y-pydantic has convenience functions to enter into a txn for you\\nbinding.extend(\\\"bar\\\")\\nbinding\";\n",
       "                var nbb_formatted_code = \"# y-pydantic has convenience functions to enter into a txn for you\\nbinding.extend(\\\"bar\\\")\\nbinding\";\n",
       "                var nbb_cells = Jupyter.notebook.get_cells();\n",
       "                for (var i = 0; i < nbb_cells.length; ++i) {\n",
       "                    if (nbb_cells[i].input_prompt_number == nbb_cell_id) {\n",
       "                        if (nbb_cells[i].get_text() == nbb_unformatted_code) {\n",
       "                             nbb_cells[i].set_text(nbb_formatted_code);\n",
       "                        }\n",
       "                        break;\n",
       "                    }\n",
       "                }\n",
       "            }, 500);\n",
       "            "
      ],
      "text/plain": [
       "<IPython.core.display.Javascript object>"
      ]
     },
     "metadata": {},
     "output_type": "display_data"
    }
   ],
   "source": [
    "# y-pydantic has convenience functions to enter into a txn for you\n",
    "binding.extend(\"bar\")\n",
    "binding"
   ]
  },
  {
   "cell_type": "code",
   "execution_count": 12,
   "id": "26602b7e",
   "metadata": {},
   "outputs": [
    {
     "data": {
      "text/plain": [
       "YText(foobar)"
      ]
     },
     "execution_count": 12,
     "metadata": {},
     "output_type": "execute_result"
    },
    {
     "data": {
      "application/javascript": [
       "\n",
       "            setTimeout(function() {\n",
       "                var nbb_cell_id = 12;\n",
       "                var nbb_unformatted_code = \"doc.get_text(\\\"text-key\\\")\";\n",
       "                var nbb_formatted_code = \"doc.get_text(\\\"text-key\\\")\";\n",
       "                var nbb_cells = Jupyter.notebook.get_cells();\n",
       "                for (var i = 0; i < nbb_cells.length; ++i) {\n",
       "                    if (nbb_cells[i].input_prompt_number == nbb_cell_id) {\n",
       "                        if (nbb_cells[i].get_text() == nbb_unformatted_code) {\n",
       "                             nbb_cells[i].set_text(nbb_formatted_code);\n",
       "                        }\n",
       "                        break;\n",
       "                    }\n",
       "                }\n",
       "            }, 500);\n",
       "            "
      ],
      "text/plain": [
       "<IPython.core.display.Javascript object>"
      ]
     },
     "metadata": {},
     "output_type": "display_data"
    }
   ],
   "source": [
    "doc.get_text(\"text-key\")"
   ]
  },
  {
   "cell_type": "code",
   "execution_count": 13,
   "id": "27342a0c",
   "metadata": {},
   "outputs": [
    {
     "data": {
      "text/plain": [
       "YText(foobar)"
      ]
     },
     "execution_count": 13,
     "metadata": {},
     "output_type": "execute_result"
    },
    {
     "data": {
      "application/javascript": [
       "\n",
       "            setTimeout(function() {\n",
       "                var nbb_cell_id = 13;\n",
       "                var nbb_unformatted_code = \"# Creating a diff and syncing with other clients is no different\\n# when using y-pydantic\\ndiff = doc.begin_transaction().diff_v1()\\nnew_doc = Y.YDoc()\\nnew_doc.begin_transaction().apply_v1(diff)\\nnew_doc.get_text(\\\"text-key\\\")\";\n",
       "                var nbb_formatted_code = \"# Creating a diff and syncing with other clients is no different\\n# when using y-pydantic\\ndiff = doc.begin_transaction().diff_v1()\\nnew_doc = Y.YDoc()\\nnew_doc.begin_transaction().apply_v1(diff)\\nnew_doc.get_text(\\\"text-key\\\")\";\n",
       "                var nbb_cells = Jupyter.notebook.get_cells();\n",
       "                for (var i = 0; i < nbb_cells.length; ++i) {\n",
       "                    if (nbb_cells[i].input_prompt_number == nbb_cell_id) {\n",
       "                        if (nbb_cells[i].get_text() == nbb_unformatted_code) {\n",
       "                             nbb_cells[i].set_text(nbb_formatted_code);\n",
       "                        }\n",
       "                        break;\n",
       "                    }\n",
       "                }\n",
       "            }, 500);\n",
       "            "
      ],
      "text/plain": [
       "<IPython.core.display.Javascript object>"
      ]
     },
     "metadata": {},
     "output_type": "display_data"
    }
   ],
   "source": [
    "# Creating a diff and syncing with other clients is no different\n",
    "# when using y-pydantic\n",
    "diff = doc.begin_transaction().diff_v1()\n",
    "new_doc = Y.YDoc()\n",
    "new_doc.begin_transaction().apply_v1(diff)\n",
    "new_doc.get_text(\"text-key\")"
   ]
  },
  {
   "cell_type": "markdown",
   "id": "a2fc245f",
   "metadata": {},
   "source": [
    "### Text attributes\n",
    "\n",
    "One motivating factor to create `y-pydantic` is that the `y-py` library does not expose any way to access attributes attached to YText objects."
   ]
  },
  {
   "cell_type": "code",
   "execution_count": 14,
   "id": "8e1f09eb",
   "metadata": {},
   "outputs": [
    {
     "name": "stdout",
     "output_type": "stream",
     "text": [
      "YTextEvent: YTextEvent(target=foobar, delta=[{'retain': 3, 'attributes': {'bold': True}}], path=[])\n"
     ]
    },
    {
     "data": {
      "text/plain": [
       "YText(foobar)"
      ]
     },
     "execution_count": 14,
     "metadata": {},
     "output_type": "execute_result"
    },
    {
     "data": {
      "application/javascript": [
       "\n",
       "            setTimeout(function() {\n",
       "                var nbb_cell_id = 14;\n",
       "                var nbb_unformatted_code = \"# Print out changes to the YText\\ndef obs_text(event: Y.YTextEvent):\\n    print(f\\\"YTextEvent: {event}\\\")\\n\\n\\nytext = doc.get_text(\\\"text-key\\\")\\nytext.observe(obs_text)\\n\\n# Add arbitrary attributes to the first three characters in the text\\nwith doc.begin_transaction() as txn:\\n    ytext.format(txn, index=0, length=3, attributes={\\\"bold\\\": True})\\n\\nytext\";\n",
       "                var nbb_formatted_code = \"# Print out changes to the YText\\ndef obs_text(event: Y.YTextEvent):\\n    print(f\\\"YTextEvent: {event}\\\")\\n\\n\\nytext = doc.get_text(\\\"text-key\\\")\\nytext.observe(obs_text)\\n\\n# Add arbitrary attributes to the first three characters in the text\\nwith doc.begin_transaction() as txn:\\n    ytext.format(txn, index=0, length=3, attributes={\\\"bold\\\": True})\\n\\nytext\";\n",
       "                var nbb_cells = Jupyter.notebook.get_cells();\n",
       "                for (var i = 0; i < nbb_cells.length; ++i) {\n",
       "                    if (nbb_cells[i].input_prompt_number == nbb_cell_id) {\n",
       "                        if (nbb_cells[i].get_text() == nbb_unformatted_code) {\n",
       "                             nbb_cells[i].set_text(nbb_formatted_code);\n",
       "                        }\n",
       "                        break;\n",
       "                    }\n",
       "                }\n",
       "            }, 500);\n",
       "            "
      ],
      "text/plain": [
       "<IPython.core.display.Javascript object>"
      ]
     },
     "metadata": {},
     "output_type": "display_data"
    }
   ],
   "source": [
    "# Print out changes to the YText\n",
    "def obs_text(event: Y.YTextEvent):\n",
    "    print(f\"YTextEvent: {event}\")\n",
    "\n",
    "\n",
    "ytext = doc.get_text(\"text-key\")\n",
    "ytext.observe(obs_text)\n",
    "\n",
    "# Add arbitrary attributes to the first three characters in the text\n",
    "with doc.begin_transaction() as txn:\n",
    "    ytext.format(txn, index=0, length=3, attributes={\"bold\": True})\n",
    "\n",
    "ytext"
   ]
  },
  {
   "cell_type": "code",
   "execution_count": 15,
   "id": "3199ad00",
   "metadata": {},
   "outputs": [
    {
     "data": {
      "text/plain": [
       "'foobar'"
      ]
     },
     "execution_count": 15,
     "metadata": {},
     "output_type": "execute_result"
    },
    {
     "data": {
      "application/javascript": [
       "\n",
       "            setTimeout(function() {\n",
       "                var nbb_cell_id = 15;\n",
       "                var nbb_unformatted_code = \"# but there is no way to access those attributes\\nstr(ytext)\";\n",
       "                var nbb_formatted_code = \"# but there is no way to access those attributes\\nstr(ytext)\";\n",
       "                var nbb_cells = Jupyter.notebook.get_cells();\n",
       "                for (var i = 0; i < nbb_cells.length; ++i) {\n",
       "                    if (nbb_cells[i].input_prompt_number == nbb_cell_id) {\n",
       "                        if (nbb_cells[i].get_text() == nbb_unformatted_code) {\n",
       "                             nbb_cells[i].set_text(nbb_formatted_code);\n",
       "                        }\n",
       "                        break;\n",
       "                    }\n",
       "                }\n",
       "            }, 500);\n",
       "            "
      ],
      "text/plain": [
       "<IPython.core.display.Javascript object>"
      ]
     },
     "metadata": {},
     "output_type": "display_data"
    }
   ],
   "source": [
    "# but there is no way to access those attributes\n",
    "str(ytext)"
   ]
  },
  {
   "cell_type": "code",
   "execution_count": 16,
   "id": "cbe90d3d",
   "metadata": {},
   "outputs": [
    {
     "data": {
      "text/plain": [
       "'YText(foobar)'"
      ]
     },
     "execution_count": 16,
     "metadata": {},
     "output_type": "execute_result"
    },
    {
     "data": {
      "application/javascript": [
       "\n",
       "            setTimeout(function() {\n",
       "                var nbb_cell_id = 16;\n",
       "                var nbb_unformatted_code = \"repr(ytext)\";\n",
       "                var nbb_formatted_code = \"repr(ytext)\";\n",
       "                var nbb_cells = Jupyter.notebook.get_cells();\n",
       "                for (var i = 0; i < nbb_cells.length; ++i) {\n",
       "                    if (nbb_cells[i].input_prompt_number == nbb_cell_id) {\n",
       "                        if (nbb_cells[i].get_text() == nbb_unformatted_code) {\n",
       "                             nbb_cells[i].set_text(nbb_formatted_code);\n",
       "                        }\n",
       "                        break;\n",
       "                    }\n",
       "                }\n",
       "            }, 500);\n",
       "            "
      ],
      "text/plain": [
       "<IPython.core.display.Javascript object>"
      ]
     },
     "metadata": {},
     "output_type": "display_data"
    }
   ],
   "source": [
    "repr(ytext)"
   ]
  },
  {
   "cell_type": "code",
   "execution_count": 17,
   "id": "29b8ed49",
   "metadata": {},
   "outputs": [
    {
     "data": {
      "text/plain": [
       "'\"foobar\"'"
      ]
     },
     "execution_count": 17,
     "metadata": {},
     "output_type": "execute_result"
    },
    {
     "data": {
      "application/javascript": [
       "\n",
       "            setTimeout(function() {\n",
       "                var nbb_cell_id = 17;\n",
       "                var nbb_unformatted_code = \"ytext.to_json()\";\n",
       "                var nbb_formatted_code = \"ytext.to_json()\";\n",
       "                var nbb_cells = Jupyter.notebook.get_cells();\n",
       "                for (var i = 0; i < nbb_cells.length; ++i) {\n",
       "                    if (nbb_cells[i].input_prompt_number == nbb_cell_id) {\n",
       "                        if (nbb_cells[i].get_text() == nbb_unformatted_code) {\n",
       "                             nbb_cells[i].set_text(nbb_formatted_code);\n",
       "                        }\n",
       "                        break;\n",
       "                    }\n",
       "                }\n",
       "            }, 500);\n",
       "            "
      ],
      "text/plain": [
       "<IPython.core.display.Javascript object>"
      ]
     },
     "metadata": {},
     "output_type": "display_data"
    }
   ],
   "source": [
    "ytext.to_json()"
   ]
  },
  {
   "cell_type": "code",
   "execution_count": 18,
   "id": "a9353d7e",
   "metadata": {},
   "outputs": [
    {
     "name": "stdout",
     "output_type": "stream",
     "text": [
      "error: vars() argument must have __dict__ attribute\n"
     ]
    },
    {
     "data": {
      "application/javascript": [
       "\n",
       "            setTimeout(function() {\n",
       "                var nbb_cell_id = 18;\n",
       "                var nbb_unformatted_code = \"try:\\n    vars(ytext)\\nexcept Exception as e:\\n    print(f\\\"error: {e}\\\")\";\n",
       "                var nbb_formatted_code = \"try:\\n    vars(ytext)\\nexcept Exception as e:\\n    print(f\\\"error: {e}\\\")\";\n",
       "                var nbb_cells = Jupyter.notebook.get_cells();\n",
       "                for (var i = 0; i < nbb_cells.length; ++i) {\n",
       "                    if (nbb_cells[i].input_prompt_number == nbb_cell_id) {\n",
       "                        if (nbb_cells[i].get_text() == nbb_unformatted_code) {\n",
       "                             nbb_cells[i].set_text(nbb_formatted_code);\n",
       "                        }\n",
       "                        break;\n",
       "                    }\n",
       "                }\n",
       "            }, 500);\n",
       "            "
      ],
      "text/plain": [
       "<IPython.core.display.Javascript object>"
      ]
     },
     "metadata": {},
     "output_type": "display_data"
    }
   ],
   "source": [
    "try:\n",
    "    vars(ytext)\n",
    "except Exception as e:\n",
    "    print(f\"error: {e}\")"
   ]
  },
  {
   "cell_type": "code",
   "execution_count": 19,
   "id": "b20e4d9e",
   "metadata": {},
   "outputs": [
    {
     "data": {
      "text/plain": [
       "<TextBinding foobar>"
      ]
     },
     "execution_count": 19,
     "metadata": {},
     "output_type": "execute_result"
    },
    {
     "data": {
      "application/javascript": [
       "\n",
       "            setTimeout(function() {\n",
       "                var nbb_cell_id = 19;\n",
       "                var nbb_unformatted_code = \"# The TextBinding observes those YTextEvent changes, including\\n# application of attributes on characters that are retained or\\n# attributes included on new inserts.\\nbinding\";\n",
       "                var nbb_formatted_code = \"# The TextBinding observes those YTextEvent changes, including\\n# application of attributes on characters that are retained or\\n# attributes included on new inserts.\\nbinding\";\n",
       "                var nbb_cells = Jupyter.notebook.get_cells();\n",
       "                for (var i = 0; i < nbb_cells.length; ++i) {\n",
       "                    if (nbb_cells[i].input_prompt_number == nbb_cell_id) {\n",
       "                        if (nbb_cells[i].get_text() == nbb_unformatted_code) {\n",
       "                             nbb_cells[i].set_text(nbb_formatted_code);\n",
       "                        }\n",
       "                        break;\n",
       "                    }\n",
       "                }\n",
       "            }, 500);\n",
       "            "
      ],
      "text/plain": [
       "<IPython.core.display.Javascript object>"
      ]
     },
     "metadata": {},
     "output_type": "display_data"
    }
   ],
   "source": [
    "# The TextBinding observes those YTextEvent changes, including\n",
    "# application of attributes on characters that are retained or\n",
    "# attributes included on new inserts.\n",
    "binding"
   ]
  },
  {
   "cell_type": "code",
   "execution_count": 20,
   "id": "ad729129",
   "metadata": {},
   "outputs": [
    {
     "data": {
      "text/plain": [
       "TextModel(items=[TextItem(value='f', attributes={'bold': True}), TextItem(value='o', attributes={'bold': True}), TextItem(value='o', attributes={'bold': True}), TextItem(value='b', attributes={}), TextItem(value='a', attributes={}), TextItem(value='r', attributes={})], deleted=[])"
      ]
     },
     "execution_count": 20,
     "metadata": {},
     "output_type": "execute_result"
    },
    {
     "data": {
      "application/javascript": [
       "\n",
       "            setTimeout(function() {\n",
       "                var nbb_cell_id = 20;\n",
       "                var nbb_unformatted_code = \"binding.model\";\n",
       "                var nbb_formatted_code = \"binding.model\";\n",
       "                var nbb_cells = Jupyter.notebook.get_cells();\n",
       "                for (var i = 0; i < nbb_cells.length; ++i) {\n",
       "                    if (nbb_cells[i].input_prompt_number == nbb_cell_id) {\n",
       "                        if (nbb_cells[i].get_text() == nbb_unformatted_code) {\n",
       "                             nbb_cells[i].set_text(nbb_formatted_code);\n",
       "                        }\n",
       "                        break;\n",
       "                    }\n",
       "                }\n",
       "            }, 500);\n",
       "            "
      ],
      "text/plain": [
       "<IPython.core.display.Javascript object>"
      ]
     },
     "metadata": {},
     "output_type": "display_data"
    }
   ],
   "source": [
    "binding.model"
   ]
  },
  {
   "cell_type": "code",
   "execution_count": 21,
   "id": "6c2c2a36",
   "metadata": {},
   "outputs": [
    {
     "data": {
      "text/plain": [
       "<TextBinding foobar>"
      ]
     },
     "execution_count": 21,
     "metadata": {},
     "output_type": "execute_result"
    },
    {
     "data": {
      "application/javascript": [
       "\n",
       "            setTimeout(function() {\n",
       "                var nbb_cell_id = 21;\n",
       "                var nbb_unformatted_code = \"# Syncing with a new doc that uses a TextBinding would\\n# pick up those same changes\\nnew2 = Y.YDoc()\\nnew_binding = TextBinding(parent_doc=new2, ytext=new2.get_text(\\\"text-key\\\"))\\n\\nY.apply_update(new2, Y.encode_state_as_update(doc))\\n# ^^ alternative syntax:\\n# new2.begin_transaction().apply_v1(doc.begin_transaction().diff_v1())\\n\\nnew_binding\";\n",
       "                var nbb_formatted_code = \"# Syncing with a new doc that uses a TextBinding would\\n# pick up those same changes\\nnew2 = Y.YDoc()\\nnew_binding = TextBinding(parent_doc=new2, ytext=new2.get_text(\\\"text-key\\\"))\\n\\nY.apply_update(new2, Y.encode_state_as_update(doc))\\n# ^^ alternative syntax:\\n# new2.begin_transaction().apply_v1(doc.begin_transaction().diff_v1())\\n\\nnew_binding\";\n",
       "                var nbb_cells = Jupyter.notebook.get_cells();\n",
       "                for (var i = 0; i < nbb_cells.length; ++i) {\n",
       "                    if (nbb_cells[i].input_prompt_number == nbb_cell_id) {\n",
       "                        if (nbb_cells[i].get_text() == nbb_unformatted_code) {\n",
       "                             nbb_cells[i].set_text(nbb_formatted_code);\n",
       "                        }\n",
       "                        break;\n",
       "                    }\n",
       "                }\n",
       "            }, 500);\n",
       "            "
      ],
      "text/plain": [
       "<IPython.core.display.Javascript object>"
      ]
     },
     "metadata": {},
     "output_type": "display_data"
    }
   ],
   "source": [
    "# Syncing with a new doc that uses a TextBinding would\n",
    "# pick up those same changes\n",
    "new2 = Y.YDoc()\n",
    "new_binding = TextBinding(parent_doc=new2, ytext=new2.get_text(\"text-key\"))\n",
    "\n",
    "Y.apply_update(new2, Y.encode_state_as_update(doc))\n",
    "# ^^ alternative syntax:\n",
    "# new2.begin_transaction().apply_v1(doc.begin_transaction().diff_v1())\n",
    "\n",
    "new_binding"
   ]
  },
  {
   "cell_type": "code",
   "execution_count": 22,
   "id": "9a512a84",
   "metadata": {},
   "outputs": [
    {
     "data": {
      "text/plain": [
       "TextModel(items=[TextItem(value='f', attributes={'bold': True}), TextItem(value='o', attributes={'bold': True}), TextItem(value='o', attributes={'bold': True}), TextItem(value='b', attributes={}), TextItem(value='a', attributes={}), TextItem(value='r', attributes={})], deleted=[])"
      ]
     },
     "execution_count": 22,
     "metadata": {},
     "output_type": "execute_result"
    },
    {
     "data": {
      "application/javascript": [
       "\n",
       "            setTimeout(function() {\n",
       "                var nbb_cell_id = 22;\n",
       "                var nbb_unformatted_code = \"new_binding.model\";\n",
       "                var nbb_formatted_code = \"new_binding.model\";\n",
       "                var nbb_cells = Jupyter.notebook.get_cells();\n",
       "                for (var i = 0; i < nbb_cells.length; ++i) {\n",
       "                    if (nbb_cells[i].input_prompt_number == nbb_cell_id) {\n",
       "                        if (nbb_cells[i].get_text() == nbb_unformatted_code) {\n",
       "                             nbb_cells[i].set_text(nbb_formatted_code);\n",
       "                        }\n",
       "                        break;\n",
       "                    }\n",
       "                }\n",
       "            }, 500);\n",
       "            "
      ],
      "text/plain": [
       "<IPython.core.display.Javascript object>"
      ]
     },
     "metadata": {},
     "output_type": "display_data"
    }
   ],
   "source": [
    "new_binding.model"
   ]
  },
  {
   "cell_type": "markdown",
   "id": "b87a66f2",
   "metadata": {},
   "source": [
    "## ArrayBinding\n",
    "\n",
    "In addition to `TextBinding`, there are `ArrayBinding` and `MapBinding` objects. They are similar to `TextBinding` in that they observe a Y data type and store the changes in an internal Pydantic model. \n",
    "\n",
    "There is no \"missing feature\" covered here like the attributes in `TextBinding`, but `ArrayBinding` and `MapBinding` do offer a benefit of converting data types into relevant `y-pydantic` bindings."
   ]
  },
  {
   "cell_type": "code",
   "execution_count": 23,
   "id": "1616632a",
   "metadata": {},
   "outputs": [
    {
     "data": {
      "text/plain": [
       "<ArrayBinding 0>"
      ]
     },
     "execution_count": 23,
     "metadata": {},
     "output_type": "execute_result"
    },
    {
     "data": {
      "application/javascript": [
       "\n",
       "            setTimeout(function() {\n",
       "                var nbb_cell_id = 23;\n",
       "                var nbb_unformatted_code = \"from y_pydantic import ArrayBinding\\n\\ndoc = Y.YDoc()\\n\\nyarray = doc.get_array(\\\"array-key\\\")\\n\\n\\ndef obs_array(event: Y.YArrayEvent):\\n    print(f\\\"YArrayEvent: {event}\\\")\\n\\n\\nyarray.observe(obs_array)\\n\\nbinding = ArrayBinding(parent_doc=doc, yarray=yarray)\\nbinding\";\n",
       "                var nbb_formatted_code = \"from y_pydantic import ArrayBinding\\n\\ndoc = Y.YDoc()\\n\\nyarray = doc.get_array(\\\"array-key\\\")\\n\\n\\ndef obs_array(event: Y.YArrayEvent):\\n    print(f\\\"YArrayEvent: {event}\\\")\\n\\n\\nyarray.observe(obs_array)\\n\\nbinding = ArrayBinding(parent_doc=doc, yarray=yarray)\\nbinding\";\n",
       "                var nbb_cells = Jupyter.notebook.get_cells();\n",
       "                for (var i = 0; i < nbb_cells.length; ++i) {\n",
       "                    if (nbb_cells[i].input_prompt_number == nbb_cell_id) {\n",
       "                        if (nbb_cells[i].get_text() == nbb_unformatted_code) {\n",
       "                             nbb_cells[i].set_text(nbb_formatted_code);\n",
       "                        }\n",
       "                        break;\n",
       "                    }\n",
       "                }\n",
       "            }, 500);\n",
       "            "
      ],
      "text/plain": [
       "<IPython.core.display.Javascript object>"
      ]
     },
     "metadata": {},
     "output_type": "display_data"
    }
   ],
   "source": [
    "from y_pydantic import ArrayBinding\n",
    "\n",
    "doc = Y.YDoc()\n",
    "\n",
    "yarray = doc.get_array(\"array-key\")\n",
    "\n",
    "\n",
    "def obs_array(event: Y.YArrayEvent):\n",
    "    print(f\"YArrayEvent: {event}\")\n",
    "\n",
    "\n",
    "yarray.observe(obs_array)\n",
    "\n",
    "binding = ArrayBinding(parent_doc=doc, yarray=yarray)\n",
    "binding"
   ]
  },
  {
   "cell_type": "code",
   "execution_count": 24,
   "id": "ae5c5787",
   "metadata": {},
   "outputs": [
    {
     "name": "stdout",
     "output_type": "stream",
     "text": [
      "YArrayEvent: YArrayEvent(target=[1.0], delta=[{'insert': [1.0]}], path=[])\n"
     ]
    },
    {
     "data": {
      "text/plain": [
       "<ArrayBinding 1>"
      ]
     },
     "execution_count": 24,
     "metadata": {},
     "output_type": "execute_result"
    },
    {
     "data": {
      "application/javascript": [
       "\n",
       "            setTimeout(function() {\n",
       "                var nbb_cell_id = 24;\n",
       "                var nbb_unformatted_code = \"binding.append(1)\\nbinding\";\n",
       "                var nbb_formatted_code = \"binding.append(1)\\nbinding\";\n",
       "                var nbb_cells = Jupyter.notebook.get_cells();\n",
       "                for (var i = 0; i < nbb_cells.length; ++i) {\n",
       "                    if (nbb_cells[i].input_prompt_number == nbb_cell_id) {\n",
       "                        if (nbb_cells[i].get_text() == nbb_unformatted_code) {\n",
       "                             nbb_cells[i].set_text(nbb_formatted_code);\n",
       "                        }\n",
       "                        break;\n",
       "                    }\n",
       "                }\n",
       "            }, 500);\n",
       "            "
      ],
      "text/plain": [
       "<IPython.core.display.Javascript object>"
      ]
     },
     "metadata": {},
     "output_type": "display_data"
    }
   ],
   "source": [
    "binding.append(1)\n",
    "binding"
   ]
  },
  {
   "cell_type": "code",
   "execution_count": 25,
   "id": "d794e594",
   "metadata": {},
   "outputs": [
    {
     "data": {
      "text/plain": [
       "YArray([1.0])"
      ]
     },
     "execution_count": 25,
     "metadata": {},
     "output_type": "execute_result"
    },
    {
     "data": {
      "application/javascript": [
       "\n",
       "            setTimeout(function() {\n",
       "                var nbb_cell_id = 25;\n",
       "                var nbb_unformatted_code = \"yarray\";\n",
       "                var nbb_formatted_code = \"yarray\";\n",
       "                var nbb_cells = Jupyter.notebook.get_cells();\n",
       "                for (var i = 0; i < nbb_cells.length; ++i) {\n",
       "                    if (nbb_cells[i].input_prompt_number == nbb_cell_id) {\n",
       "                        if (nbb_cells[i].get_text() == nbb_unformatted_code) {\n",
       "                             nbb_cells[i].set_text(nbb_formatted_code);\n",
       "                        }\n",
       "                        break;\n",
       "                    }\n",
       "                }\n",
       "            }, 500);\n",
       "            "
      ],
      "text/plain": [
       "<IPython.core.display.Javascript object>"
      ]
     },
     "metadata": {},
     "output_type": "display_data"
    }
   ],
   "source": [
    "yarray"
   ]
  },
  {
   "cell_type": "code",
   "execution_count": 26,
   "id": "0468f65e",
   "metadata": {},
   "outputs": [
    {
     "data": {
      "text/plain": [
       "ArrayModel(items=[1.0], deleted=[])"
      ]
     },
     "execution_count": 26,
     "metadata": {},
     "output_type": "execute_result"
    },
    {
     "data": {
      "application/javascript": [
       "\n",
       "            setTimeout(function() {\n",
       "                var nbb_cell_id = 26;\n",
       "                var nbb_unformatted_code = \"binding.model\";\n",
       "                var nbb_formatted_code = \"binding.model\";\n",
       "                var nbb_cells = Jupyter.notebook.get_cells();\n",
       "                for (var i = 0; i < nbb_cells.length; ++i) {\n",
       "                    if (nbb_cells[i].input_prompt_number == nbb_cell_id) {\n",
       "                        if (nbb_cells[i].get_text() == nbb_unformatted_code) {\n",
       "                             nbb_cells[i].set_text(nbb_formatted_code);\n",
       "                        }\n",
       "                        break;\n",
       "                    }\n",
       "                }\n",
       "            }, 500);\n",
       "            "
      ],
      "text/plain": [
       "<IPython.core.display.Javascript object>"
      ]
     },
     "metadata": {},
     "output_type": "display_data"
    }
   ],
   "source": [
    "binding.model"
   ]
  },
  {
   "cell_type": "code",
   "execution_count": 27,
   "id": "a466834e",
   "metadata": {},
   "outputs": [
    {
     "name": "stdout",
     "output_type": "stream",
     "text": [
      "YArrayEvent: YArrayEvent(target=[1.0, 'a', 'b', 'c'], delta=[{'retain': 1}, {'insert': ['a', 'b', 'c']}], path=[])\n"
     ]
    },
    {
     "data": {
      "text/plain": [
       "<ArrayBinding 4>"
      ]
     },
     "execution_count": 27,
     "metadata": {},
     "output_type": "execute_result"
    },
    {
     "data": {
      "application/javascript": [
       "\n",
       "            setTimeout(function() {\n",
       "                var nbb_cell_id = 27;\n",
       "                var nbb_unformatted_code = \"binding.extend([\\\"a\\\", \\\"b\\\", \\\"c\\\"])\\nbinding\";\n",
       "                var nbb_formatted_code = \"binding.extend([\\\"a\\\", \\\"b\\\", \\\"c\\\"])\\nbinding\";\n",
       "                var nbb_cells = Jupyter.notebook.get_cells();\n",
       "                for (var i = 0; i < nbb_cells.length; ++i) {\n",
       "                    if (nbb_cells[i].input_prompt_number == nbb_cell_id) {\n",
       "                        if (nbb_cells[i].get_text() == nbb_unformatted_code) {\n",
       "                             nbb_cells[i].set_text(nbb_formatted_code);\n",
       "                        }\n",
       "                        break;\n",
       "                    }\n",
       "                }\n",
       "            }, 500);\n",
       "            "
      ],
      "text/plain": [
       "<IPython.core.display.Javascript object>"
      ]
     },
     "metadata": {},
     "output_type": "display_data"
    }
   ],
   "source": [
    "binding.extend([\"a\", \"b\", \"c\"])\n",
    "binding"
   ]
  },
  {
   "cell_type": "code",
   "execution_count": 28,
   "id": "69353ad4",
   "metadata": {},
   "outputs": [
    {
     "data": {
      "text/plain": [
       "YArray([1.0, 'a', 'b', 'c'])"
      ]
     },
     "execution_count": 28,
     "metadata": {},
     "output_type": "execute_result"
    },
    {
     "data": {
      "application/javascript": [
       "\n",
       "            setTimeout(function() {\n",
       "                var nbb_cell_id = 28;\n",
       "                var nbb_unformatted_code = \"yarray\";\n",
       "                var nbb_formatted_code = \"yarray\";\n",
       "                var nbb_cells = Jupyter.notebook.get_cells();\n",
       "                for (var i = 0; i < nbb_cells.length; ++i) {\n",
       "                    if (nbb_cells[i].input_prompt_number == nbb_cell_id) {\n",
       "                        if (nbb_cells[i].get_text() == nbb_unformatted_code) {\n",
       "                             nbb_cells[i].set_text(nbb_formatted_code);\n",
       "                        }\n",
       "                        break;\n",
       "                    }\n",
       "                }\n",
       "            }, 500);\n",
       "            "
      ],
      "text/plain": [
       "<IPython.core.display.Javascript object>"
      ]
     },
     "metadata": {},
     "output_type": "display_data"
    }
   ],
   "source": [
    "yarray"
   ]
  },
  {
   "cell_type": "code",
   "execution_count": 29,
   "id": "6805d406",
   "metadata": {},
   "outputs": [
    {
     "data": {
      "text/plain": [
       "ArrayModel(items=[1.0, 'a', 'b', 'c'], deleted=[])"
      ]
     },
     "execution_count": 29,
     "metadata": {},
     "output_type": "execute_result"
    },
    {
     "data": {
      "application/javascript": [
       "\n",
       "            setTimeout(function() {\n",
       "                var nbb_cell_id = 29;\n",
       "                var nbb_unformatted_code = \"binding.model\";\n",
       "                var nbb_formatted_code = \"binding.model\";\n",
       "                var nbb_cells = Jupyter.notebook.get_cells();\n",
       "                for (var i = 0; i < nbb_cells.length; ++i) {\n",
       "                    if (nbb_cells[i].input_prompt_number == nbb_cell_id) {\n",
       "                        if (nbb_cells[i].get_text() == nbb_unformatted_code) {\n",
       "                             nbb_cells[i].set_text(nbb_formatted_code);\n",
       "                        }\n",
       "                        break;\n",
       "                    }\n",
       "                }\n",
       "            }, 500);\n",
       "            "
      ],
      "text/plain": [
       "<IPython.core.display.Javascript object>"
      ]
     },
     "metadata": {},
     "output_type": "display_data"
    }
   ],
   "source": [
    "binding.model"
   ]
  },
  {
   "cell_type": "code",
   "execution_count": 30,
   "id": "9e861151",
   "metadata": {},
   "outputs": [
    {
     "name": "stdout",
     "output_type": "stream",
     "text": [
      "YArrayEvent: YArrayEvent(target=['', 1.0, 'a', 'b', 'c'], delta=[{'insert': [YText()]}], path=[])\n"
     ]
    },
    {
     "data": {
      "application/javascript": [
       "\n",
       "            setTimeout(function() {\n",
       "                var nbb_cell_id = 30;\n",
       "                var nbb_unformatted_code = \"binding.insert(0, Y.YText())\";\n",
       "                var nbb_formatted_code = \"binding.insert(0, Y.YText())\";\n",
       "                var nbb_cells = Jupyter.notebook.get_cells();\n",
       "                for (var i = 0; i < nbb_cells.length; ++i) {\n",
       "                    if (nbb_cells[i].input_prompt_number == nbb_cell_id) {\n",
       "                        if (nbb_cells[i].get_text() == nbb_unformatted_code) {\n",
       "                             nbb_cells[i].set_text(nbb_formatted_code);\n",
       "                        }\n",
       "                        break;\n",
       "                    }\n",
       "                }\n",
       "            }, 500);\n",
       "            "
      ],
      "text/plain": [
       "<IPython.core.display.Javascript object>"
      ]
     },
     "metadata": {},
     "output_type": "display_data"
    }
   ],
   "source": [
    "binding.insert(0, Y.YText())"
   ]
  },
  {
   "cell_type": "code",
   "execution_count": 31,
   "id": "2a065647",
   "metadata": {},
   "outputs": [
    {
     "data": {
      "text/plain": [
       "YArray(['', 1.0, 'a', 'b', 'c'])"
      ]
     },
     "execution_count": 31,
     "metadata": {},
     "output_type": "execute_result"
    },
    {
     "data": {
      "application/javascript": [
       "\n",
       "            setTimeout(function() {\n",
       "                var nbb_cell_id = 31;\n",
       "                var nbb_unformatted_code = \"yarray\";\n",
       "                var nbb_formatted_code = \"yarray\";\n",
       "                var nbb_cells = Jupyter.notebook.get_cells();\n",
       "                for (var i = 0; i < nbb_cells.length; ++i) {\n",
       "                    if (nbb_cells[i].input_prompt_number == nbb_cell_id) {\n",
       "                        if (nbb_cells[i].get_text() == nbb_unformatted_code) {\n",
       "                             nbb_cells[i].set_text(nbb_formatted_code);\n",
       "                        }\n",
       "                        break;\n",
       "                    }\n",
       "                }\n",
       "            }, 500);\n",
       "            "
      ],
      "text/plain": [
       "<IPython.core.display.Javascript object>"
      ]
     },
     "metadata": {},
     "output_type": "display_data"
    }
   ],
   "source": [
    "yarray"
   ]
  },
  {
   "cell_type": "code",
   "execution_count": 32,
   "id": "2317293a",
   "metadata": {},
   "outputs": [
    {
     "data": {
      "text/plain": [
       "ArrayModel(items=[<TextBinding >, 1.0, 'a', 'b', 'c'], deleted=[])"
      ]
     },
     "execution_count": 32,
     "metadata": {},
     "output_type": "execute_result"
    },
    {
     "data": {
      "application/javascript": [
       "\n",
       "            setTimeout(function() {\n",
       "                var nbb_cell_id = 32;\n",
       "                var nbb_unformatted_code = \"binding.model\";\n",
       "                var nbb_formatted_code = \"binding.model\";\n",
       "                var nbb_cells = Jupyter.notebook.get_cells();\n",
       "                for (var i = 0; i < nbb_cells.length; ++i) {\n",
       "                    if (nbb_cells[i].input_prompt_number == nbb_cell_id) {\n",
       "                        if (nbb_cells[i].get_text() == nbb_unformatted_code) {\n",
       "                             nbb_cells[i].set_text(nbb_formatted_code);\n",
       "                        }\n",
       "                        break;\n",
       "                    }\n",
       "                }\n",
       "            }, 500);\n",
       "            "
      ],
      "text/plain": [
       "<IPython.core.display.Javascript object>"
      ]
     },
     "metadata": {},
     "output_type": "display_data"
    }
   ],
   "source": [
    "binding.model"
   ]
  },
  {
   "cell_type": "code",
   "execution_count": 33,
   "id": "e0f8d659",
   "metadata": {},
   "outputs": [
    {
     "data": {
      "text/plain": [
       "<TextBinding >"
      ]
     },
     "execution_count": 33,
     "metadata": {},
     "output_type": "execute_result"
    },
    {
     "data": {
      "application/javascript": [
       "\n",
       "            setTimeout(function() {\n",
       "                var nbb_cell_id = 33;\n",
       "                var nbb_unformatted_code = \"t = binding.model.items[0]\\nt\";\n",
       "                var nbb_formatted_code = \"t = binding.model.items[0]\\nt\";\n",
       "                var nbb_cells = Jupyter.notebook.get_cells();\n",
       "                for (var i = 0; i < nbb_cells.length; ++i) {\n",
       "                    if (nbb_cells[i].input_prompt_number == nbb_cell_id) {\n",
       "                        if (nbb_cells[i].get_text() == nbb_unformatted_code) {\n",
       "                             nbb_cells[i].set_text(nbb_formatted_code);\n",
       "                        }\n",
       "                        break;\n",
       "                    }\n",
       "                }\n",
       "            }, 500);\n",
       "            "
      ],
      "text/plain": [
       "<IPython.core.display.Javascript object>"
      ]
     },
     "metadata": {},
     "output_type": "display_data"
    }
   ],
   "source": [
    "t = binding.model.items[0]\n",
    "t"
   ]
  },
  {
   "cell_type": "code",
   "execution_count": 34,
   "id": "babec898",
   "metadata": {},
   "outputs": [
    {
     "data": {
      "application/javascript": [
       "\n",
       "            setTimeout(function() {\n",
       "                var nbb_cell_id = 34;\n",
       "                var nbb_unformatted_code = \"t.extend(\\\"hello world\\\")\";\n",
       "                var nbb_formatted_code = \"t.extend(\\\"hello world\\\")\";\n",
       "                var nbb_cells = Jupyter.notebook.get_cells();\n",
       "                for (var i = 0; i < nbb_cells.length; ++i) {\n",
       "                    if (nbb_cells[i].input_prompt_number == nbb_cell_id) {\n",
       "                        if (nbb_cells[i].get_text() == nbb_unformatted_code) {\n",
       "                             nbb_cells[i].set_text(nbb_formatted_code);\n",
       "                        }\n",
       "                        break;\n",
       "                    }\n",
       "                }\n",
       "            }, 500);\n",
       "            "
      ],
      "text/plain": [
       "<IPython.core.display.Javascript object>"
      ]
     },
     "metadata": {},
     "output_type": "display_data"
    }
   ],
   "source": [
    "t.extend(\"hello world\")"
   ]
  },
  {
   "cell_type": "code",
   "execution_count": 35,
   "id": "edae8504",
   "metadata": {},
   "outputs": [
    {
     "data": {
      "text/plain": [
       "YArray(['hello world', 1.0, 'a', 'b', 'c'])"
      ]
     },
     "execution_count": 35,
     "metadata": {},
     "output_type": "execute_result"
    },
    {
     "data": {
      "application/javascript": [
       "\n",
       "            setTimeout(function() {\n",
       "                var nbb_cell_id = 35;\n",
       "                var nbb_unformatted_code = \"yarray\";\n",
       "                var nbb_formatted_code = \"yarray\";\n",
       "                var nbb_cells = Jupyter.notebook.get_cells();\n",
       "                for (var i = 0; i < nbb_cells.length; ++i) {\n",
       "                    if (nbb_cells[i].input_prompt_number == nbb_cell_id) {\n",
       "                        if (nbb_cells[i].get_text() == nbb_unformatted_code) {\n",
       "                             nbb_cells[i].set_text(nbb_formatted_code);\n",
       "                        }\n",
       "                        break;\n",
       "                    }\n",
       "                }\n",
       "            }, 500);\n",
       "            "
      ],
      "text/plain": [
       "<IPython.core.display.Javascript object>"
      ]
     },
     "metadata": {},
     "output_type": "display_data"
    }
   ],
   "source": [
    "yarray"
   ]
  },
  {
   "cell_type": "code",
   "execution_count": 36,
   "id": "dc6aa7d1",
   "metadata": {},
   "outputs": [
    {
     "data": {
      "text/plain": [
       "ArrayModel(items=[<TextBinding hello world>, 1.0, 'a', 'b', 'c'], deleted=[])"
      ]
     },
     "execution_count": 36,
     "metadata": {},
     "output_type": "execute_result"
    },
    {
     "data": {
      "application/javascript": [
       "\n",
       "            setTimeout(function() {\n",
       "                var nbb_cell_id = 36;\n",
       "                var nbb_unformatted_code = \"binding.model\";\n",
       "                var nbb_formatted_code = \"binding.model\";\n",
       "                var nbb_cells = Jupyter.notebook.get_cells();\n",
       "                for (var i = 0; i < nbb_cells.length; ++i) {\n",
       "                    if (nbb_cells[i].input_prompt_number == nbb_cell_id) {\n",
       "                        if (nbb_cells[i].get_text() == nbb_unformatted_code) {\n",
       "                             nbb_cells[i].set_text(nbb_formatted_code);\n",
       "                        }\n",
       "                        break;\n",
       "                    }\n",
       "                }\n",
       "            }, 500);\n",
       "            "
      ],
      "text/plain": [
       "<IPython.core.display.Javascript object>"
      ]
     },
     "metadata": {},
     "output_type": "display_data"
    }
   ],
   "source": [
    "binding.model"
   ]
  },
  {
   "cell_type": "code",
   "execution_count": 37,
   "id": "0e691d11",
   "metadata": {},
   "outputs": [
    {
     "data": {
      "text/plain": [
       "TextModel(items=[TextItem(value='h', attributes={}), TextItem(value='e', attributes={}), TextItem(value='l', attributes={}), TextItem(value='l', attributes={}), TextItem(value='o', attributes={}), TextItem(value=' ', attributes={}), TextItem(value='w', attributes={}), TextItem(value='o', attributes={}), TextItem(value='r', attributes={}), TextItem(value='l', attributes={}), TextItem(value='d', attributes={})], deleted=[])"
      ]
     },
     "execution_count": 37,
     "metadata": {},
     "output_type": "execute_result"
    },
    {
     "data": {
      "application/javascript": [
       "\n",
       "            setTimeout(function() {\n",
       "                var nbb_cell_id = 37;\n",
       "                var nbb_unformatted_code = \"t.model\";\n",
       "                var nbb_formatted_code = \"t.model\";\n",
       "                var nbb_cells = Jupyter.notebook.get_cells();\n",
       "                for (var i = 0; i < nbb_cells.length; ++i) {\n",
       "                    if (nbb_cells[i].input_prompt_number == nbb_cell_id) {\n",
       "                        if (nbb_cells[i].get_text() == nbb_unformatted_code) {\n",
       "                             nbb_cells[i].set_text(nbb_formatted_code);\n",
       "                        }\n",
       "                        break;\n",
       "                    }\n",
       "                }\n",
       "            }, 500);\n",
       "            "
      ],
      "text/plain": [
       "<IPython.core.display.Javascript object>"
      ]
     },
     "metadata": {},
     "output_type": "display_data"
    }
   ],
   "source": [
    "t.model"
   ]
  },
  {
   "cell_type": "code",
   "execution_count": 38,
   "id": "af331ef3",
   "metadata": {},
   "outputs": [
    {
     "data": {
      "text/plain": [
       "{'items': [<TextBinding hello world>, 1.0, 'a', 'b', 'c'], 'deleted': []}"
      ]
     },
     "execution_count": 38,
     "metadata": {},
     "output_type": "execute_result"
    },
    {
     "data": {
      "application/javascript": [
       "\n",
       "            setTimeout(function() {\n",
       "                var nbb_cell_id = 38;\n",
       "                var nbb_unformatted_code = \"# Serializing to dict returns a TextBinding object in the items list\\nbinding.model.dict()\";\n",
       "                var nbb_formatted_code = \"# Serializing to dict returns a TextBinding object in the items list\\nbinding.model.dict()\";\n",
       "                var nbb_cells = Jupyter.notebook.get_cells();\n",
       "                for (var i = 0; i < nbb_cells.length; ++i) {\n",
       "                    if (nbb_cells[i].input_prompt_number == nbb_cell_id) {\n",
       "                        if (nbb_cells[i].get_text() == nbb_unformatted_code) {\n",
       "                             nbb_cells[i].set_text(nbb_formatted_code);\n",
       "                        }\n",
       "                        break;\n",
       "                    }\n",
       "                }\n",
       "            }, 500);\n",
       "            "
      ],
      "text/plain": [
       "<IPython.core.display.Javascript object>"
      ]
     },
     "metadata": {},
     "output_type": "display_data"
    }
   ],
   "source": [
    "# Serializing to dict returns a TextBinding object in the items list\n",
    "binding.model.dict()"
   ]
  },
  {
   "cell_type": "code",
   "execution_count": 39,
   "id": "f097bfe7",
   "metadata": {},
   "outputs": [
    {
     "data": {
      "text/plain": [
       "'{\"items\": [{\"items\": [{\"value\": \"h\", \"attributes\": {}}, {\"value\": \"e\", \"attributes\": {}}, {\"value\": \"l\", \"attributes\": {}}, {\"value\": \"l\", \"attributes\": {}}, {\"value\": \"o\", \"attributes\": {}}, {\"value\": \" \", \"attributes\": {}}, {\"value\": \"w\", \"attributes\": {}}, {\"value\": \"o\", \"attributes\": {}}, {\"value\": \"r\", \"attributes\": {}}, {\"value\": \"l\", \"attributes\": {}}, {\"value\": \"d\", \"attributes\": {}}], \"deleted\": []}, 1.0, \"a\", \"b\", \"c\"], \"deleted\": []}'"
      ]
     },
     "execution_count": 39,
     "metadata": {},
     "output_type": "execute_result"
    },
    {
     "data": {
      "application/javascript": [
       "\n",
       "            setTimeout(function() {\n",
       "                var nbb_cell_id = 39;\n",
       "                var nbb_unformatted_code = \"# But y-pydantic has custom JSON encoders so that serializing to json\\n# breaks out any sub-models\\nbinding.model.json()\";\n",
       "                var nbb_formatted_code = \"# But y-pydantic has custom JSON encoders so that serializing to json\\n# breaks out any sub-models\\nbinding.model.json()\";\n",
       "                var nbb_cells = Jupyter.notebook.get_cells();\n",
       "                for (var i = 0; i < nbb_cells.length; ++i) {\n",
       "                    if (nbb_cells[i].input_prompt_number == nbb_cell_id) {\n",
       "                        if (nbb_cells[i].get_text() == nbb_unformatted_code) {\n",
       "                             nbb_cells[i].set_text(nbb_formatted_code);\n",
       "                        }\n",
       "                        break;\n",
       "                    }\n",
       "                }\n",
       "            }, 500);\n",
       "            "
      ],
      "text/plain": [
       "<IPython.core.display.Javascript object>"
      ]
     },
     "metadata": {},
     "output_type": "display_data"
    }
   ],
   "source": [
    "# But y-pydantic has custom JSON encoders so that serializing to json\n",
    "# breaks out any sub-models\n",
    "binding.model.json()"
   ]
  },
  {
   "cell_type": "code",
   "execution_count": 40,
   "id": "a67b9fea",
   "metadata": {},
   "outputs": [
    {
     "data": {
      "text/plain": [
       "ArrayModel(items=[{'items': [{'value': 'h', 'attributes': {}}, {'value': 'e', 'attributes': {}}, {'value': 'l', 'attributes': {}}, {'value': 'l', 'attributes': {}}, {'value': 'o', 'attributes': {}}, {'value': ' ', 'attributes': {}}, {'value': 'w', 'attributes': {}}, {'value': 'o', 'attributes': {}}, {'value': 'r', 'attributes': {}}, {'value': 'l', 'attributes': {}}, {'value': 'd', 'attributes': {}}], 'deleted': []}, 1.0, 'a', 'b', 'c'], deleted=[])"
      ]
     },
     "execution_count": 40,
     "metadata": {},
     "output_type": "execute_result"
    },
    {
     "data": {
      "application/javascript": [
       "\n",
       "            setTimeout(function() {\n",
       "                var nbb_cell_id = 40;\n",
       "                var nbb_unformatted_code = \"from y_pydantic import ArrayModel\\n\\n# deserialize JSON back to a full model (TODO: model to binding)\\nArrayModel.parse_raw(binding.model.json())\";\n",
       "                var nbb_formatted_code = \"from y_pydantic import ArrayModel\\n\\n# deserialize JSON back to a full model (TODO: model to binding)\\nArrayModel.parse_raw(binding.model.json())\";\n",
       "                var nbb_cells = Jupyter.notebook.get_cells();\n",
       "                for (var i = 0; i < nbb_cells.length; ++i) {\n",
       "                    if (nbb_cells[i].input_prompt_number == nbb_cell_id) {\n",
       "                        if (nbb_cells[i].get_text() == nbb_unformatted_code) {\n",
       "                             nbb_cells[i].set_text(nbb_formatted_code);\n",
       "                        }\n",
       "                        break;\n",
       "                    }\n",
       "                }\n",
       "            }, 500);\n",
       "            "
      ],
      "text/plain": [
       "<IPython.core.display.Javascript object>"
      ]
     },
     "metadata": {},
     "output_type": "display_data"
    }
   ],
   "source": [
    "from y_pydantic import ArrayModel\n",
    "\n",
    "# deserialize JSON back to a full model (TODO: model to binding)\n",
    "ArrayModel.parse_raw(binding.model.json())"
   ]
  },
  {
   "cell_type": "markdown",
   "id": "8de25f93",
   "metadata": {},
   "source": [
    "## Todo App\n",
    "\n"
   ]
  },
  {
   "cell_type": "code",
   "execution_count": 41,
   "id": "59cf118d",
   "metadata": {},
   "outputs": [
    {
     "data": {
      "text/plain": [
       "<Todos []>"
      ]
     },
     "execution_count": 41,
     "metadata": {},
     "output_type": "execute_result"
    },
    {
     "data": {
      "application/javascript": [
       "\n",
       "            setTimeout(function() {\n",
       "                var nbb_cell_id = 41;\n",
       "                var nbb_unformatted_code = \"from typing import Optional\\n\\n\\nclass TodoCRDT:\\n    def __init__(self):\\n        self.doc = Y.YDoc()\\n        yarray = self.doc.get_array(\\\"todos\\\")\\n        self.todos = ArrayBinding(parent_doc=self.doc, yarray=yarray)\\n\\n        yarray.observe_deep(self.obs)\\n\\n    def obs(self, event):\\n        print(event)\\n\\n    def add_todo(self, text: str) -> TextBinding:\\n        \\\"\\\"\\\"\\n        Add a new Y.YText entry into the todos Y.YArray.\\n        After it's inserted, populate it with <text>\\n        \\\"\\\"\\\"\\n        ytext = Y.YText()\\n        self.todos.append(ytext)\\n        binding = TextBinding(parent_doc=self.doc, ytext=ytext)\\n        binding.extend(\\\"foo\\\")\\n        return binding\\n\\n    def snapshot(self, last_sv: Optional[bytes] = None) -> dict:\\n        \\\"\\\"\\\"\\n        Return the current Todo pydantic model and the binary diff of\\n        the CRDT so other clients can sync. Optionally pass in a last\\n        state vector to return a serial update as well as \\\"full update\\\"\\n        \\\"\\\"\\\"\\n        response = {\\n            \\\"model\\\": self.todos.model,\\n            \\\"full_diff\\\": self.doc.begin_transaction().diff_v1(),\\n            \\\"sv\\\": self.doc.begin_transaction().state_vector_v1(),\\n        }\\n        if last_sv:\\n            response[\\\"last_sv\\\"] = last_sv\\n            response[\\\"partial_diff\\\"] = self.doc.begin_transaction().diff_v1(last_sv)\\n        return response\\n\\n    def __repr__(self):\\n        return f\\\"<Todos {[item.plain_text for item in self.todos.model.items]}>\\\"\\n\\n\\ncrdt = TodoCRDT()\\ncrdt\";\n",
       "                var nbb_formatted_code = \"from typing import Optional\\n\\n\\nclass TodoCRDT:\\n    def __init__(self):\\n        self.doc = Y.YDoc()\\n        yarray = self.doc.get_array(\\\"todos\\\")\\n        self.todos = ArrayBinding(parent_doc=self.doc, yarray=yarray)\\n\\n        yarray.observe_deep(self.obs)\\n\\n    def obs(self, event):\\n        print(event)\\n\\n    def add_todo(self, text: str) -> TextBinding:\\n        \\\"\\\"\\\"\\n        Add a new Y.YText entry into the todos Y.YArray.\\n        After it's inserted, populate it with <text>\\n        \\\"\\\"\\\"\\n        ytext = Y.YText()\\n        self.todos.append(ytext)\\n        binding = TextBinding(parent_doc=self.doc, ytext=ytext)\\n        binding.extend(\\\"foo\\\")\\n        return binding\\n\\n    def snapshot(self, last_sv: Optional[bytes] = None) -> dict:\\n        \\\"\\\"\\\"\\n        Return the current Todo pydantic model and the binary diff of\\n        the CRDT so other clients can sync. Optionally pass in a last\\n        state vector to return a serial update as well as \\\"full update\\\"\\n        \\\"\\\"\\\"\\n        response = {\\n            \\\"model\\\": self.todos.model,\\n            \\\"full_diff\\\": self.doc.begin_transaction().diff_v1(),\\n            \\\"sv\\\": self.doc.begin_transaction().state_vector_v1(),\\n        }\\n        if last_sv:\\n            response[\\\"last_sv\\\"] = last_sv\\n            response[\\\"partial_diff\\\"] = self.doc.begin_transaction().diff_v1(last_sv)\\n        return response\\n\\n    def __repr__(self):\\n        return f\\\"<Todos {[item.plain_text for item in self.todos.model.items]}>\\\"\\n\\n\\ncrdt = TodoCRDT()\\ncrdt\";\n",
       "                var nbb_cells = Jupyter.notebook.get_cells();\n",
       "                for (var i = 0; i < nbb_cells.length; ++i) {\n",
       "                    if (nbb_cells[i].input_prompt_number == nbb_cell_id) {\n",
       "                        if (nbb_cells[i].get_text() == nbb_unformatted_code) {\n",
       "                             nbb_cells[i].set_text(nbb_formatted_code);\n",
       "                        }\n",
       "                        break;\n",
       "                    }\n",
       "                }\n",
       "            }, 500);\n",
       "            "
      ],
      "text/plain": [
       "<IPython.core.display.Javascript object>"
      ]
     },
     "metadata": {},
     "output_type": "display_data"
    }
   ],
   "source": [
    "from typing import Optional\n",
    "\n",
    "\n",
    "class TodoCRDT:\n",
    "    def __init__(self):\n",
    "        self.doc = Y.YDoc()\n",
    "        yarray = self.doc.get_array(\"todos\")\n",
    "        self.todos = ArrayBinding(parent_doc=self.doc, yarray=yarray)\n",
    "\n",
    "        yarray.observe_deep(self.obs)\n",
    "\n",
    "    def obs(self, event):\n",
    "        print(event)\n",
    "\n",
    "    def add_todo(self, text: str) -> TextBinding:\n",
    "        \"\"\"\n",
    "        Add a new Y.YText entry into the todos Y.YArray.\n",
    "        After it's inserted, populate it with <text>\n",
    "        \"\"\"\n",
    "        ytext = Y.YText()\n",
    "        self.todos.append(ytext)\n",
    "        binding = TextBinding(parent_doc=self.doc, ytext=ytext)\n",
    "        binding.extend(\"foo\")\n",
    "        return binding\n",
    "\n",
    "    def snapshot(self, last_sv: Optional[bytes] = None) -> dict:\n",
    "        \"\"\"\n",
    "        Return the current Todo pydantic model and the binary diff of\n",
    "        the CRDT so other clients can sync. Optionally pass in a last\n",
    "        state vector to return a serial update as well as \"full update\"\n",
    "        \"\"\"\n",
    "        response = {\n",
    "            \"model\": self.todos.model,\n",
    "            \"full_diff\": self.doc.begin_transaction().diff_v1(),\n",
    "            \"sv\": self.doc.begin_transaction().state_vector_v1(),\n",
    "        }\n",
    "        if last_sv:\n",
    "            response[\"last_sv\"] = last_sv\n",
    "            response[\"partial_diff\"] = self.doc.begin_transaction().diff_v1(last_sv)\n",
    "        return response\n",
    "\n",
    "    def __repr__(self):\n",
    "        return f\"<Todos {[item.plain_text for item in self.todos.model.items]}>\"\n",
    "\n",
    "\n",
    "crdt = TodoCRDT()\n",
    "crdt"
   ]
  },
  {
   "cell_type": "code",
   "execution_count": 42,
   "id": "b1c50c67",
   "metadata": {},
   "outputs": [
    {
     "name": "stdout",
     "output_type": "stream",
     "text": [
      "[YArrayEvent(target=[''], delta=[{'insert': [YText()]}], path=[])]\n",
      "[YTextEvent(target=foo, delta=[{'insert': 'foo'}], path=[0])]\n"
     ]
    },
    {
     "data": {
      "text/plain": [
       "<TextBinding foo>"
      ]
     },
     "execution_count": 42,
     "metadata": {},
     "output_type": "execute_result"
    },
    {
     "data": {
      "application/javascript": [
       "\n",
       "            setTimeout(function() {\n",
       "                var nbb_cell_id = 42;\n",
       "                var nbb_unformatted_code = \"todo = crdt.add_todo(\\\"foo\\\")\\ntodo\";\n",
       "                var nbb_formatted_code = \"todo = crdt.add_todo(\\\"foo\\\")\\ntodo\";\n",
       "                var nbb_cells = Jupyter.notebook.get_cells();\n",
       "                for (var i = 0; i < nbb_cells.length; ++i) {\n",
       "                    if (nbb_cells[i].input_prompt_number == nbb_cell_id) {\n",
       "                        if (nbb_cells[i].get_text() == nbb_unformatted_code) {\n",
       "                             nbb_cells[i].set_text(nbb_formatted_code);\n",
       "                        }\n",
       "                        break;\n",
       "                    }\n",
       "                }\n",
       "            }, 500);\n",
       "            "
      ],
      "text/plain": [
       "<IPython.core.display.Javascript object>"
      ]
     },
     "metadata": {},
     "output_type": "display_data"
    }
   ],
   "source": [
    "todo = crdt.add_todo(\"foo\")\n",
    "todo"
   ]
  },
  {
   "cell_type": "code",
   "execution_count": 43,
   "id": "924bd373",
   "metadata": {},
   "outputs": [
    {
     "data": {
      "text/plain": [
       "<Todos ['foo']>"
      ]
     },
     "execution_count": 43,
     "metadata": {},
     "output_type": "execute_result"
    },
    {
     "data": {
      "application/javascript": [
       "\n",
       "            setTimeout(function() {\n",
       "                var nbb_cell_id = 43;\n",
       "                var nbb_unformatted_code = \"crdt\";\n",
       "                var nbb_formatted_code = \"crdt\";\n",
       "                var nbb_cells = Jupyter.notebook.get_cells();\n",
       "                for (var i = 0; i < nbb_cells.length; ++i) {\n",
       "                    if (nbb_cells[i].input_prompt_number == nbb_cell_id) {\n",
       "                        if (nbb_cells[i].get_text() == nbb_unformatted_code) {\n",
       "                             nbb_cells[i].set_text(nbb_formatted_code);\n",
       "                        }\n",
       "                        break;\n",
       "                    }\n",
       "                }\n",
       "            }, 500);\n",
       "            "
      ],
      "text/plain": [
       "<IPython.core.display.Javascript object>"
      ]
     },
     "metadata": {},
     "output_type": "display_data"
    }
   ],
   "source": [
    "crdt"
   ]
  },
  {
   "cell_type": "code",
   "execution_count": 44,
   "id": "f95c94eb",
   "metadata": {},
   "outputs": [
    {
     "data": {
      "text/plain": [
       "TextModel(items=[TextItem(value='f', attributes={}), TextItem(value='o', attributes={}), TextItem(value='o', attributes={})], deleted=[])"
      ]
     },
     "execution_count": 44,
     "metadata": {},
     "output_type": "execute_result"
    },
    {
     "data": {
      "application/javascript": [
       "\n",
       "            setTimeout(function() {\n",
       "                var nbb_cell_id = 44;\n",
       "                var nbb_unformatted_code = \"todo.model\";\n",
       "                var nbb_formatted_code = \"todo.model\";\n",
       "                var nbb_cells = Jupyter.notebook.get_cells();\n",
       "                for (var i = 0; i < nbb_cells.length; ++i) {\n",
       "                    if (nbb_cells[i].input_prompt_number == nbb_cell_id) {\n",
       "                        if (nbb_cells[i].get_text() == nbb_unformatted_code) {\n",
       "                             nbb_cells[i].set_text(nbb_formatted_code);\n",
       "                        }\n",
       "                        break;\n",
       "                    }\n",
       "                }\n",
       "            }, 500);\n",
       "            "
      ],
      "text/plain": [
       "<IPython.core.display.Javascript object>"
      ]
     },
     "metadata": {},
     "output_type": "display_data"
    }
   ],
   "source": [
    "todo.model"
   ]
  },
  {
   "cell_type": "code",
   "execution_count": 45,
   "id": "15cf6f97",
   "metadata": {},
   "outputs": [
    {
     "name": "stdout",
     "output_type": "stream",
     "text": [
      "[YTextEvent(target=foo, delta=[{'retain': 2, 'attributes': {'some': 'attributes'}}], path=[0])]\n"
     ]
    },
    {
     "data": {
      "application/javascript": [
       "\n",
       "            setTimeout(function() {\n",
       "                var nbb_cell_id = 45;\n",
       "                var nbb_unformatted_code = \"# Add some attributes to demo a feature that may or may not work down below\\n# when we sync a new Client to this TodoCRDT\\ntodo.format(index=0, length=2, attributes={\\\"some\\\": \\\"attributes\\\"})\";\n",
       "                var nbb_formatted_code = \"# Add some attributes to demo a feature that may or may not work down below\\n# when we sync a new Client to this TodoCRDT\\ntodo.format(index=0, length=2, attributes={\\\"some\\\": \\\"attributes\\\"})\";\n",
       "                var nbb_cells = Jupyter.notebook.get_cells();\n",
       "                for (var i = 0; i < nbb_cells.length; ++i) {\n",
       "                    if (nbb_cells[i].input_prompt_number == nbb_cell_id) {\n",
       "                        if (nbb_cells[i].get_text() == nbb_unformatted_code) {\n",
       "                             nbb_cells[i].set_text(nbb_formatted_code);\n",
       "                        }\n",
       "                        break;\n",
       "                    }\n",
       "                }\n",
       "            }, 500);\n",
       "            "
      ],
      "text/plain": [
       "<IPython.core.display.Javascript object>"
      ]
     },
     "metadata": {},
     "output_type": "display_data"
    }
   ],
   "source": [
    "# Add some attributes to demo a feature that may or may not work down below\n",
    "# when we sync a new Client to this TodoCRDT\n",
    "todo.format(index=0, length=2, attributes={\"some\": \"attributes\"})"
   ]
  },
  {
   "cell_type": "code",
   "execution_count": 46,
   "id": "4be93bd5",
   "metadata": {},
   "outputs": [
    {
     "data": {
      "text/plain": [
       "TextModel(items=[TextItem(value='f', attributes={'some': 'attributes'}), TextItem(value='o', attributes={'some': 'attributes'}), TextItem(value='o', attributes={})], deleted=[])"
      ]
     },
     "execution_count": 46,
     "metadata": {},
     "output_type": "execute_result"
    },
    {
     "data": {
      "application/javascript": [
       "\n",
       "            setTimeout(function() {\n",
       "                var nbb_cell_id = 46;\n",
       "                var nbb_unformatted_code = \"todo.model\";\n",
       "                var nbb_formatted_code = \"todo.model\";\n",
       "                var nbb_cells = Jupyter.notebook.get_cells();\n",
       "                for (var i = 0; i < nbb_cells.length; ++i) {\n",
       "                    if (nbb_cells[i].input_prompt_number == nbb_cell_id) {\n",
       "                        if (nbb_cells[i].get_text() == nbb_unformatted_code) {\n",
       "                             nbb_cells[i].set_text(nbb_formatted_code);\n",
       "                        }\n",
       "                        break;\n",
       "                    }\n",
       "                }\n",
       "            }, 500);\n",
       "            "
      ],
      "text/plain": [
       "<IPython.core.display.Javascript object>"
      ]
     },
     "metadata": {},
     "output_type": "display_data"
    }
   ],
   "source": [
    "todo.model"
   ]
  },
  {
   "cell_type": "code",
   "execution_count": 47,
   "id": "f12dbc6c",
   "metadata": {},
   "outputs": [
    {
     "data": {
      "text/plain": [
       "{'model': ArrayModel(items=[<TextBinding foo>], deleted=[]),\n",
       " 'full_diff': b'\\x01\\x05\\xdf\\xc1\\xa5\\xe9\\x0f\\x00\\x07\\x01\\x05todos\\x02\\x04\\x00\\xdf\\xc1\\xa5\\xe9\\x0f\\x00\\x02fo\\x84\\xdf\\xc1\\xa5\\xe9\\x0f\\x02\\x01oF\\xdf\\xc1\\xa5\\xe9\\x0f\\x01\\x04some\\x0c\"attributes\"\\xc6\\xdf\\xc1\\xa5\\xe9\\x0f\\x02\\xdf\\xc1\\xa5\\xe9\\x0f\\x03\\x04some\\x04null\\x00',\n",
       " 'sv': b'\\x01\\xdf\\xc1\\xa5\\xe9\\x0f\\x06'}"
      ]
     },
     "execution_count": 47,
     "metadata": {},
     "output_type": "execute_result"
    },
    {
     "data": {
      "application/javascript": [
       "\n",
       "            setTimeout(function() {\n",
       "                var nbb_cell_id = 47;\n",
       "                var nbb_unformatted_code = \"snapshot = crdt.snapshot()\\nsnapshot\";\n",
       "                var nbb_formatted_code = \"snapshot = crdt.snapshot()\\nsnapshot\";\n",
       "                var nbb_cells = Jupyter.notebook.get_cells();\n",
       "                for (var i = 0; i < nbb_cells.length; ++i) {\n",
       "                    if (nbb_cells[i].input_prompt_number == nbb_cell_id) {\n",
       "                        if (nbb_cells[i].get_text() == nbb_unformatted_code) {\n",
       "                             nbb_cells[i].set_text(nbb_formatted_code);\n",
       "                        }\n",
       "                        break;\n",
       "                    }\n",
       "                }\n",
       "            }, 500);\n",
       "            "
      ],
      "text/plain": [
       "<IPython.core.display.Javascript object>"
      ]
     },
     "metadata": {},
     "output_type": "display_data"
    }
   ],
   "source": [
    "snapshot = crdt.snapshot()\n",
    "snapshot"
   ]
  },
  {
   "cell_type": "code",
   "execution_count": 48,
   "id": "e0ee5c8e",
   "metadata": {},
   "outputs": [
    {
     "name": "stdout",
     "output_type": "stream",
     "text": [
      "{\n",
      "  \"items\": [\n",
      "    {\n",
      "      \"items\": [\n",
      "        {\n",
      "          \"value\": \"f\",\n",
      "          \"attributes\": {\n",
      "            \"some\": \"attributes\"\n",
      "          }\n",
      "        },\n",
      "        {\n",
      "          \"value\": \"o\",\n",
      "          \"attributes\": {\n",
      "            \"some\": \"attributes\"\n",
      "          }\n",
      "        },\n",
      "        {\n",
      "          \"value\": \"o\",\n",
      "          \"attributes\": {}\n",
      "        }\n",
      "      ],\n",
      "      \"deleted\": []\n",
      "    }\n",
      "  ],\n",
      "  \"deleted\": []\n",
      "}\n"
     ]
    },
    {
     "data": {
      "application/javascript": [
       "\n",
       "            setTimeout(function() {\n",
       "                var nbb_cell_id = 48;\n",
       "                var nbb_unformatted_code = \"print(snapshot[\\\"model\\\"].json(indent=2))\";\n",
       "                var nbb_formatted_code = \"print(snapshot[\\\"model\\\"].json(indent=2))\";\n",
       "                var nbb_cells = Jupyter.notebook.get_cells();\n",
       "                for (var i = 0; i < nbb_cells.length; ++i) {\n",
       "                    if (nbb_cells[i].input_prompt_number == nbb_cell_id) {\n",
       "                        if (nbb_cells[i].get_text() == nbb_unformatted_code) {\n",
       "                             nbb_cells[i].set_text(nbb_formatted_code);\n",
       "                        }\n",
       "                        break;\n",
       "                    }\n",
       "                }\n",
       "            }, 500);\n",
       "            "
      ],
      "text/plain": [
       "<IPython.core.display.Javascript object>"
      ]
     },
     "metadata": {},
     "output_type": "display_data"
    }
   ],
   "source": [
    "print(snapshot[\"model\"].json(indent=2))"
   ]
  },
  {
   "cell_type": "code",
   "execution_count": 49,
   "id": "e6acc52b",
   "metadata": {},
   "outputs": [
    {
     "name": "stdout",
     "output_type": "stream",
     "text": [
      "[YArrayEvent(target=['foo', ''], delta=[{'retain': 1}, {'insert': [YText()]}], path=[])]\n",
      "[YTextEvent(target=foo, delta=[{'insert': 'foo'}], path=[1])]\n"
     ]
    },
    {
     "data": {
      "text/plain": [
       "<Todos ['foo', 'foo']>"
      ]
     },
     "execution_count": 49,
     "metadata": {},
     "output_type": "execute_result"
    },
    {
     "data": {
      "application/javascript": [
       "\n",
       "            setTimeout(function() {\n",
       "                var nbb_cell_id = 49;\n",
       "                var nbb_unformatted_code = \"# Add another YText/TextBinding to demonstrate loading different snapshots below\\ncrdt.add_todo(\\\"bar\\\")\\ncrdt\";\n",
       "                var nbb_formatted_code = \"# Add another YText/TextBinding to demonstrate loading different snapshots below\\ncrdt.add_todo(\\\"bar\\\")\\ncrdt\";\n",
       "                var nbb_cells = Jupyter.notebook.get_cells();\n",
       "                for (var i = 0; i < nbb_cells.length; ++i) {\n",
       "                    if (nbb_cells[i].input_prompt_number == nbb_cell_id) {\n",
       "                        if (nbb_cells[i].get_text() == nbb_unformatted_code) {\n",
       "                             nbb_cells[i].set_text(nbb_formatted_code);\n",
       "                        }\n",
       "                        break;\n",
       "                    }\n",
       "                }\n",
       "            }, 500);\n",
       "            "
      ],
      "text/plain": [
       "<IPython.core.display.Javascript object>"
      ]
     },
     "metadata": {},
     "output_type": "display_data"
    }
   ],
   "source": [
    "# Add another YText/TextBinding to demonstrate loading different snapshots below\n",
    "crdt.add_todo(\"bar\")\n",
    "crdt"
   ]
  },
  {
   "cell_type": "code",
   "execution_count": 50,
   "id": "86aae884",
   "metadata": {},
   "outputs": [
    {
     "data": {
      "text/plain": [
       "{'model': ArrayModel(items=[<TextBinding foo>, <TextBinding foo>], deleted=[]),\n",
       " 'full_diff': b'\\x01\\x07\\xdf\\xc1\\xa5\\xe9\\x0f\\x00\\x07\\x01\\x05todos\\x02\\x04\\x00\\xdf\\xc1\\xa5\\xe9\\x0f\\x00\\x02fo\\x84\\xdf\\xc1\\xa5\\xe9\\x0f\\x02\\x01oF\\xdf\\xc1\\xa5\\xe9\\x0f\\x01\\x04some\\x0c\"attributes\"\\xc6\\xdf\\xc1\\xa5\\xe9\\x0f\\x02\\xdf\\xc1\\xa5\\xe9\\x0f\\x03\\x04some\\x04null\\x87\\xdf\\xc1\\xa5\\xe9\\x0f\\x00\\x02\\x04\\x00\\xdf\\xc1\\xa5\\xe9\\x0f\\x06\\x03foo\\x00',\n",
       " 'sv': b'\\x01\\xdf\\xc1\\xa5\\xe9\\x0f\\n',\n",
       " 'last_sv': b'\\x01\\xdf\\xc1\\xa5\\xe9\\x0f\\x06',\n",
       " 'partial_diff': b'\\x01\\x02\\xdf\\xc1\\xa5\\xe9\\x0f\\x06\\x87\\xdf\\xc1\\xa5\\xe9\\x0f\\x00\\x02\\x04\\x00\\xdf\\xc1\\xa5\\xe9\\x0f\\x06\\x03foo\\x00'}"
      ]
     },
     "execution_count": 50,
     "metadata": {},
     "output_type": "execute_result"
    },
    {
     "data": {
      "application/javascript": [
       "\n",
       "            setTimeout(function() {\n",
       "                var nbb_cell_id = 50;\n",
       "                var nbb_unformatted_code = \"snapshot2 = crdt.snapshot(last_sv=snapshot[\\\"sv\\\"])\\nsnapshot2\";\n",
       "                var nbb_formatted_code = \"snapshot2 = crdt.snapshot(last_sv=snapshot[\\\"sv\\\"])\\nsnapshot2\";\n",
       "                var nbb_cells = Jupyter.notebook.get_cells();\n",
       "                for (var i = 0; i < nbb_cells.length; ++i) {\n",
       "                    if (nbb_cells[i].input_prompt_number == nbb_cell_id) {\n",
       "                        if (nbb_cells[i].get_text() == nbb_unformatted_code) {\n",
       "                             nbb_cells[i].set_text(nbb_formatted_code);\n",
       "                        }\n",
       "                        break;\n",
       "                    }\n",
       "                }\n",
       "            }, 500);\n",
       "            "
      ],
      "text/plain": [
       "<IPython.core.display.Javascript object>"
      ]
     },
     "metadata": {},
     "output_type": "display_data"
    }
   ],
   "source": [
    "snapshot2 = crdt.snapshot(last_sv=snapshot[\"sv\"])\n",
    "snapshot2"
   ]
  },
  {
   "cell_type": "markdown",
   "id": "3de59afd",
   "metadata": {},
   "source": [
    "### Load TodoCRDT at different snapshots\n",
    "\n",
    "Notice when we load the snapshot (the first snapshot with just YText(foo), not the second snapshot with [foo, bar]), we only see one delta event: inserting the fully formed YText into the YArray.\n",
    "\n",
    "y-pydantic needs work to read in that text when it doesn't observe updates to an empty YText object, and I don't see any way to introspect the attached attributes on the YText object."
   ]
  },
  {
   "cell_type": "code",
   "execution_count": 51,
   "id": "b8443117",
   "metadata": {},
   "outputs": [
    {
     "name": "stdout",
     "output_type": "stream",
     "text": [
      "[YArrayEvent(target=['foo'], delta=[{'insert': [YText(foo)]}], path=[])]\n"
     ]
    },
    {
     "data": {
      "text/plain": [
       "<Todos ['']>"
      ]
     },
     "execution_count": 51,
     "metadata": {},
     "output_type": "execute_result"
    },
    {
     "data": {
      "application/javascript": [
       "\n",
       "            setTimeout(function() {\n",
       "                var nbb_cell_id = 51;\n",
       "                var nbb_unformatted_code = \"new = TodoCRDT()\\nnew.doc.begin_transaction().apply_v1(snapshot[\\\"full_diff\\\"])\\nnew\";\n",
       "                var nbb_formatted_code = \"new = TodoCRDT()\\nnew.doc.begin_transaction().apply_v1(snapshot[\\\"full_diff\\\"])\\nnew\";\n",
       "                var nbb_cells = Jupyter.notebook.get_cells();\n",
       "                for (var i = 0; i < nbb_cells.length; ++i) {\n",
       "                    if (nbb_cells[i].input_prompt_number == nbb_cell_id) {\n",
       "                        if (nbb_cells[i].get_text() == nbb_unformatted_code) {\n",
       "                             nbb_cells[i].set_text(nbb_formatted_code);\n",
       "                        }\n",
       "                        break;\n",
       "                    }\n",
       "                }\n",
       "            }, 500);\n",
       "            "
      ],
      "text/plain": [
       "<IPython.core.display.Javascript object>"
      ]
     },
     "metadata": {},
     "output_type": "display_data"
    }
   ],
   "source": [
    "new = TodoCRDT()\n",
    "new.doc.begin_transaction().apply_v1(snapshot[\"full_diff\"])\n",
    "new"
   ]
  },
  {
   "cell_type": "code",
   "execution_count": 52,
   "id": "95cf5c27",
   "metadata": {},
   "outputs": [
    {
     "data": {
      "text/plain": [
       "YArray(['foo'])"
      ]
     },
     "execution_count": 52,
     "metadata": {},
     "output_type": "execute_result"
    },
    {
     "data": {
      "application/javascript": [
       "\n",
       "            setTimeout(function() {\n",
       "                var nbb_cell_id = 52;\n",
       "                var nbb_unformatted_code = \"new.todos.yarray\";\n",
       "                var nbb_formatted_code = \"new.todos.yarray\";\n",
       "                var nbb_cells = Jupyter.notebook.get_cells();\n",
       "                for (var i = 0; i < nbb_cells.length; ++i) {\n",
       "                    if (nbb_cells[i].input_prompt_number == nbb_cell_id) {\n",
       "                        if (nbb_cells[i].get_text() == nbb_unformatted_code) {\n",
       "                             nbb_cells[i].set_text(nbb_formatted_code);\n",
       "                        }\n",
       "                        break;\n",
       "                    }\n",
       "                }\n",
       "            }, 500);\n",
       "            "
      ],
      "text/plain": [
       "<IPython.core.display.Javascript object>"
      ]
     },
     "metadata": {},
     "output_type": "display_data"
    }
   ],
   "source": [
    "new.todos.yarray"
   ]
  },
  {
   "cell_type": "code",
   "execution_count": 53,
   "id": "2d91723a",
   "metadata": {},
   "outputs": [
    {
     "data": {
      "text/plain": [
       "ArrayModel(items=[<TextBinding >], deleted=[])"
      ]
     },
     "execution_count": 53,
     "metadata": {},
     "output_type": "execute_result"
    },
    {
     "data": {
      "application/javascript": [
       "\n",
       "            setTimeout(function() {\n",
       "                var nbb_cell_id = 53;\n",
       "                var nbb_unformatted_code = \"new.todos.model\";\n",
       "                var nbb_formatted_code = \"new.todos.model\";\n",
       "                var nbb_cells = Jupyter.notebook.get_cells();\n",
       "                for (var i = 0; i < nbb_cells.length; ++i) {\n",
       "                    if (nbb_cells[i].input_prompt_number == nbb_cell_id) {\n",
       "                        if (nbb_cells[i].get_text() == nbb_unformatted_code) {\n",
       "                             nbb_cells[i].set_text(nbb_formatted_code);\n",
       "                        }\n",
       "                        break;\n",
       "                    }\n",
       "                }\n",
       "            }, 500);\n",
       "            "
      ],
      "text/plain": [
       "<IPython.core.display.Javascript object>"
      ]
     },
     "metadata": {},
     "output_type": "display_data"
    }
   ],
   "source": [
    "new.todos.model"
   ]
  },
  {
   "cell_type": "code",
   "execution_count": 54,
   "id": "610e0556",
   "metadata": {},
   "outputs": [
    {
     "data": {
      "text/plain": [
       "YText(foo)"
      ]
     },
     "execution_count": 54,
     "metadata": {},
     "output_type": "execute_result"
    },
    {
     "data": {
      "application/javascript": [
       "\n",
       "            setTimeout(function() {\n",
       "                var nbb_cell_id = 54;\n",
       "                var nbb_unformatted_code = \"new.todos.yarray[0]\";\n",
       "                var nbb_formatted_code = \"new.todos.yarray[0]\";\n",
       "                var nbb_cells = Jupyter.notebook.get_cells();\n",
       "                for (var i = 0; i < nbb_cells.length; ++i) {\n",
       "                    if (nbb_cells[i].input_prompt_number == nbb_cell_id) {\n",
       "                        if (nbb_cells[i].get_text() == nbb_unformatted_code) {\n",
       "                             nbb_cells[i].set_text(nbb_formatted_code);\n",
       "                        }\n",
       "                        break;\n",
       "                    }\n",
       "                }\n",
       "            }, 500);\n",
       "            "
      ],
      "text/plain": [
       "<IPython.core.display.Javascript object>"
      ]
     },
     "metadata": {},
     "output_type": "display_data"
    }
   ],
   "source": [
    "new.todos.yarray[0]"
   ]
  },
  {
   "cell_type": "code",
   "execution_count": 55,
   "id": "846aaa08",
   "metadata": {},
   "outputs": [
    {
     "data": {
      "text/plain": [
       "<TextBinding >"
      ]
     },
     "execution_count": 55,
     "metadata": {},
     "output_type": "execute_result"
    },
    {
     "data": {
      "application/javascript": [
       "\n",
       "            setTimeout(function() {\n",
       "                var nbb_cell_id = 55;\n",
       "                var nbb_unformatted_code = \"new.todos.model.items[0]\";\n",
       "                var nbb_formatted_code = \"new.todos.model.items[0]\";\n",
       "                var nbb_cells = Jupyter.notebook.get_cells();\n",
       "                for (var i = 0; i < nbb_cells.length; ++i) {\n",
       "                    if (nbb_cells[i].input_prompt_number == nbb_cell_id) {\n",
       "                        if (nbb_cells[i].get_text() == nbb_unformatted_code) {\n",
       "                             nbb_cells[i].set_text(nbb_formatted_code);\n",
       "                        }\n",
       "                        break;\n",
       "                    }\n",
       "                }\n",
       "            }, 500);\n",
       "            "
      ],
      "text/plain": [
       "<IPython.core.display.Javascript object>"
      ]
     },
     "metadata": {},
     "output_type": "display_data"
    }
   ],
   "source": [
    "new.todos.model.items[0]"
   ]
  },
  {
   "cell_type": "code",
   "execution_count": null,
   "id": "3520b81e",
   "metadata": {},
   "outputs": [],
   "source": []
  }
 ],
 "metadata": {
  "kernelspec": {
   "display_name": "Python 3 (ipykernel)",
   "language": "python",
   "name": "python3"
  },
  "language_info": {
   "codemirror_mode": {
    "name": "ipython",
    "version": 3
   },
   "file_extension": ".py",
   "mimetype": "text/x-python",
   "name": "python",
   "nbconvert_exporter": "python",
   "pygments_lexer": "ipython3",
   "version": "3.9.11"
  }
 },
 "nbformat": 4,
 "nbformat_minor": 5
}
