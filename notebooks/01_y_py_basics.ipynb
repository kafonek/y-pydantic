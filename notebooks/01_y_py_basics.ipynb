{
 "cells": [
  {
   "cell_type": "markdown",
   "id": "692c1d37",
   "metadata": {},
   "source": [
    "# Y-py 101\n",
    "\n",
    "Primer for Y-py before moving on to examples of using Y-Pydantic bindings and simulated providers.\n",
    "\n",
    "Think about the Y ecosystem as having three core concepts:\n",
    " - The Y CRDT and `shared data types`, implemented in yjs (JS) and yrs (Rust), ported to ypy (Python) via maturin\n",
    " - `bindings` that connect a CRDT with something you can see or interact with, such as a *codemirror* element in an HTML document\n",
    " - `providers` that synchronize different clients over wire protocols (webrtc, websockets, etc) using a small messaging protocol and then exchanging state vectors and diffs (aka deltas or updates).\n"
   ]
  },
  {
   "cell_type": "code",
   "execution_count": 1,
   "id": "cdc7a396",
   "metadata": {},
   "outputs": [
    {
     "data": {
      "application/javascript": [
       "\n",
       "            setTimeout(function() {\n",
       "                var nbb_cell_id = 1;\n",
       "                var nbb_unformatted_code = \"# for applying Black to code in Notebook cells\\n%load_ext nb_black\";\n",
       "                var nbb_formatted_code = \"# for applying Black to code in Notebook cells\\n%load_ext nb_black\";\n",
       "                var nbb_cells = Jupyter.notebook.get_cells();\n",
       "                for (var i = 0; i < nbb_cells.length; ++i) {\n",
       "                    if (nbb_cells[i].input_prompt_number == nbb_cell_id) {\n",
       "                        if (nbb_cells[i].get_text() == nbb_unformatted_code) {\n",
       "                             nbb_cells[i].set_text(nbb_formatted_code);\n",
       "                        }\n",
       "                        break;\n",
       "                    }\n",
       "                }\n",
       "            }, 500);\n",
       "            "
      ],
      "text/plain": [
       "<IPython.core.display.Javascript object>"
      ]
     },
     "metadata": {},
     "output_type": "display_data"
    }
   ],
   "source": [
    "# for applying Black to code in Notebook cells\n",
    "%load_ext nb_black"
   ]
  },
  {
   "cell_type": "markdown",
   "id": "3ec982dd",
   "metadata": {},
   "source": [
    "## YDoc"
   ]
  },
  {
   "cell_type": "code",
   "execution_count": 2,
   "id": "02088a2c",
   "metadata": {},
   "outputs": [
    {
     "data": {
      "text/plain": [
       "<YDoc at 0x7f3b5e01bc90>"
      ]
     },
     "execution_count": 2,
     "metadata": {},
     "output_type": "execute_result"
    },
    {
     "data": {
      "application/javascript": [
       "\n",
       "            setTimeout(function() {\n",
       "                var nbb_cell_id = 2;\n",
       "                var nbb_unformatted_code = \"import y_py as Y\\n\\n# In most cases, each client will have a single YDoc with\\n# some data types attached to that, then sync the linear history\\n# of that single YDoc between other clients\\ndoc = Y.YDoc()\\ndoc\";\n",
       "                var nbb_formatted_code = \"import y_py as Y\\n\\n# In most cases, each client will have a single YDoc with\\n# some data types attached to that, then sync the linear history\\n# of that single YDoc between other clients\\ndoc = Y.YDoc()\\ndoc\";\n",
       "                var nbb_cells = Jupyter.notebook.get_cells();\n",
       "                for (var i = 0; i < nbb_cells.length; ++i) {\n",
       "                    if (nbb_cells[i].input_prompt_number == nbb_cell_id) {\n",
       "                        if (nbb_cells[i].get_text() == nbb_unformatted_code) {\n",
       "                             nbb_cells[i].set_text(nbb_formatted_code);\n",
       "                        }\n",
       "                        break;\n",
       "                    }\n",
       "                }\n",
       "            }, 500);\n",
       "            "
      ],
      "text/plain": [
       "<IPython.core.display.Javascript object>"
      ]
     },
     "metadata": {},
     "output_type": "display_data"
    }
   ],
   "source": [
    "import y_py as Y\n",
    "\n",
    "# In most cases, each client will have a single YDoc with\n",
    "# some data types attached to that, then sync the linear history\n",
    "# of that single YDoc between other clients\n",
    "doc = Y.YDoc()\n",
    "doc"
   ]
  },
  {
   "cell_type": "markdown",
   "id": "9e6a17fb",
   "metadata": {},
   "source": [
    "### State vectors\n",
    "\n",
    "A state vector is one tool used to sync clients, it represents a point in linear history and can be used by another client to calculate the differences between what updates your client needs to apply to catch up with the remote client.\n",
    "\n",
    "Note: you can't go from state_vector to new YDoc, more on that later.\n"
   ]
  },
  {
   "cell_type": "code",
   "execution_count": 3,
   "id": "f75d11e5",
   "metadata": {},
   "outputs": [
    {
     "data": {
      "text/plain": [
       "b'\\x00'"
      ]
     },
     "execution_count": 3,
     "metadata": {},
     "output_type": "execute_result"
    },
    {
     "data": {
      "application/javascript": [
       "\n",
       "            setTimeout(function() {\n",
       "                var nbb_cell_id = 3;\n",
       "                var nbb_unformatted_code = \"# Since our YDoc has no changes, we should expect this to be b'\\\\x00'\\nwith doc.begin_transaction() as txn:\\n    sv = txn.state_vector_v1()\\nsv\";\n",
       "                var nbb_formatted_code = \"# Since our YDoc has no changes, we should expect this to be b'\\\\x00'\\nwith doc.begin_transaction() as txn:\\n    sv = txn.state_vector_v1()\\nsv\";\n",
       "                var nbb_cells = Jupyter.notebook.get_cells();\n",
       "                for (var i = 0; i < nbb_cells.length; ++i) {\n",
       "                    if (nbb_cells[i].input_prompt_number == nbb_cell_id) {\n",
       "                        if (nbb_cells[i].get_text() == nbb_unformatted_code) {\n",
       "                             nbb_cells[i].set_text(nbb_formatted_code);\n",
       "                        }\n",
       "                        break;\n",
       "                    }\n",
       "                }\n",
       "            }, 500);\n",
       "            "
      ],
      "text/plain": [
       "<IPython.core.display.Javascript object>"
      ]
     },
     "metadata": {},
     "output_type": "display_data"
    }
   ],
   "source": [
    "# Since our YDoc has no changes, we should expect this to be b'\\x00'\n",
    "with doc.begin_transaction() as txn:\n",
    "    sv = txn.state_vector_v1()\n",
    "sv"
   ]
  },
  {
   "cell_type": "code",
   "execution_count": 4,
   "id": "54f2dbcc",
   "metadata": {},
   "outputs": [
    {
     "data": {
      "text/plain": [
       "b'\\x00'"
      ]
     },
     "execution_count": 4,
     "metadata": {},
     "output_type": "execute_result"
    },
    {
     "data": {
      "application/javascript": [
       "\n",
       "            setTimeout(function() {\n",
       "                var nbb_cell_id = 4;\n",
       "                var nbb_unformatted_code = \"# Alternative syntax to above\\ndoc.begin_transaction().state_vector_v1()\";\n",
       "                var nbb_formatted_code = \"# Alternative syntax to above\\ndoc.begin_transaction().state_vector_v1()\";\n",
       "                var nbb_cells = Jupyter.notebook.get_cells();\n",
       "                for (var i = 0; i < nbb_cells.length; ++i) {\n",
       "                    if (nbb_cells[i].input_prompt_number == nbb_cell_id) {\n",
       "                        if (nbb_cells[i].get_text() == nbb_unformatted_code) {\n",
       "                             nbb_cells[i].set_text(nbb_formatted_code);\n",
       "                        }\n",
       "                        break;\n",
       "                    }\n",
       "                }\n",
       "            }, 500);\n",
       "            "
      ],
      "text/plain": [
       "<IPython.core.display.Javascript object>"
      ]
     },
     "metadata": {},
     "output_type": "display_data"
    }
   ],
   "source": [
    "# Alternative syntax to above\n",
    "doc.begin_transaction().state_vector_v1()"
   ]
  },
  {
   "cell_type": "code",
   "execution_count": 5,
   "id": "830542cc",
   "metadata": {},
   "outputs": [
    {
     "data": {
      "text/plain": [
       "b'\\x00'"
      ]
     },
     "execution_count": 5,
     "metadata": {},
     "output_type": "execute_result"
    },
    {
     "data": {
      "application/javascript": [
       "\n",
       "            setTimeout(function() {\n",
       "                var nbb_cell_id = 5;\n",
       "                var nbb_unformatted_code = \"# More alternative syntax\\nY.encode_state_vector(doc)\";\n",
       "                var nbb_formatted_code = \"# More alternative syntax\\nY.encode_state_vector(doc)\";\n",
       "                var nbb_cells = Jupyter.notebook.get_cells();\n",
       "                for (var i = 0; i < nbb_cells.length; ++i) {\n",
       "                    if (nbb_cells[i].input_prompt_number == nbb_cell_id) {\n",
       "                        if (nbb_cells[i].get_text() == nbb_unformatted_code) {\n",
       "                             nbb_cells[i].set_text(nbb_formatted_code);\n",
       "                        }\n",
       "                        break;\n",
       "                    }\n",
       "                }\n",
       "            }, 500);\n",
       "            "
      ],
      "text/plain": [
       "<IPython.core.display.Javascript object>"
      ]
     },
     "metadata": {},
     "output_type": "display_data"
    }
   ],
   "source": [
    "# More alternative syntax\n",
    "Y.encode_state_vector(doc)"
   ]
  },
  {
   "cell_type": "markdown",
   "id": "d4615f4a",
   "metadata": {},
   "source": [
    "### Diffs\n",
    "\n",
    "Diffs (aka deltas, updates) are changes to the linear history of the CRDT. They are what two clients actually use to sync. A \"full history\" can be calculated, or you can calculate a smaller diff between your current state and an earlier point in history (defined by a state vector)."
   ]
  },
  {
   "cell_type": "code",
   "execution_count": 6,
   "id": "059bd153",
   "metadata": {},
   "outputs": [
    {
     "data": {
      "text/plain": [
       "b'\\x00\\x00'"
      ]
     },
     "execution_count": 6,
     "metadata": {},
     "output_type": "execute_result"
    },
    {
     "data": {
      "application/javascript": [
       "\n",
       "            setTimeout(function() {\n",
       "                var nbb_cell_id = 6;\n",
       "                var nbb_unformatted_code = \"# Since we have no changes, we should expect this to be b'\\\\x00\\\\x00'\\nwith doc.begin_transaction() as txn:\\n    diff = txn.diff_v1()\\ndiff\";\n",
       "                var nbb_formatted_code = \"# Since we have no changes, we should expect this to be b'\\\\x00\\\\x00'\\nwith doc.begin_transaction() as txn:\\n    diff = txn.diff_v1()\\ndiff\";\n",
       "                var nbb_cells = Jupyter.notebook.get_cells();\n",
       "                for (var i = 0; i < nbb_cells.length; ++i) {\n",
       "                    if (nbb_cells[i].input_prompt_number == nbb_cell_id) {\n",
       "                        if (nbb_cells[i].get_text() == nbb_unformatted_code) {\n",
       "                             nbb_cells[i].set_text(nbb_formatted_code);\n",
       "                        }\n",
       "                        break;\n",
       "                    }\n",
       "                }\n",
       "            }, 500);\n",
       "            "
      ],
      "text/plain": [
       "<IPython.core.display.Javascript object>"
      ]
     },
     "metadata": {},
     "output_type": "display_data"
    }
   ],
   "source": [
    "# Since we have no changes, we should expect this to be b'\\x00\\x00'\n",
    "with doc.begin_transaction() as txn:\n",
    "    diff = txn.diff_v1()\n",
    "diff"
   ]
  },
  {
   "cell_type": "code",
   "execution_count": 7,
   "id": "c1492628",
   "metadata": {},
   "outputs": [
    {
     "data": {
      "text/plain": [
       "b'\\x00\\x00'"
      ]
     },
     "execution_count": 7,
     "metadata": {},
     "output_type": "execute_result"
    },
    {
     "data": {
      "application/javascript": [
       "\n",
       "            setTimeout(function() {\n",
       "                var nbb_cell_id = 7;\n",
       "                var nbb_unformatted_code = \"# alternative syntax\\ndoc.begin_transaction().diff_v1()\";\n",
       "                var nbb_formatted_code = \"# alternative syntax\\ndoc.begin_transaction().diff_v1()\";\n",
       "                var nbb_cells = Jupyter.notebook.get_cells();\n",
       "                for (var i = 0; i < nbb_cells.length; ++i) {\n",
       "                    if (nbb_cells[i].input_prompt_number == nbb_cell_id) {\n",
       "                        if (nbb_cells[i].get_text() == nbb_unformatted_code) {\n",
       "                             nbb_cells[i].set_text(nbb_formatted_code);\n",
       "                        }\n",
       "                        break;\n",
       "                    }\n",
       "                }\n",
       "            }, 500);\n",
       "            "
      ],
      "text/plain": [
       "<IPython.core.display.Javascript object>"
      ]
     },
     "metadata": {},
     "output_type": "display_data"
    }
   ],
   "source": [
    "# alternative syntax\n",
    "doc.begin_transaction().diff_v1()"
   ]
  },
  {
   "cell_type": "code",
   "execution_count": 8,
   "id": "ddbd16b7",
   "metadata": {},
   "outputs": [
    {
     "data": {
      "text/plain": [
       "b'\\x00\\x00'"
      ]
     },
     "execution_count": 8,
     "metadata": {},
     "output_type": "execute_result"
    },
    {
     "data": {
      "application/javascript": [
       "\n",
       "            setTimeout(function() {\n",
       "                var nbb_cell_id = 8;\n",
       "                var nbb_unformatted_code = \"# more alternative syntax\\nY.encode_state_as_update(doc)\";\n",
       "                var nbb_formatted_code = \"# more alternative syntax\\nY.encode_state_as_update(doc)\";\n",
       "                var nbb_cells = Jupyter.notebook.get_cells();\n",
       "                for (var i = 0; i < nbb_cells.length; ++i) {\n",
       "                    if (nbb_cells[i].input_prompt_number == nbb_cell_id) {\n",
       "                        if (nbb_cells[i].get_text() == nbb_unformatted_code) {\n",
       "                             nbb_cells[i].set_text(nbb_formatted_code);\n",
       "                        }\n",
       "                        break;\n",
       "                    }\n",
       "                }\n",
       "            }, 500);\n",
       "            "
      ],
      "text/plain": [
       "<IPython.core.display.Javascript object>"
      ]
     },
     "metadata": {},
     "output_type": "display_data"
    }
   ],
   "source": [
    "# more alternative syntax\n",
    "Y.encode_state_as_update(doc)"
   ]
  },
  {
   "cell_type": "markdown",
   "id": "db0cbe6f",
   "metadata": {},
   "source": [
    "## Text\n",
    "\n",
    "So far our YDoc has no attached shared types. Let's add a YText to it and see how that changes the state vectors and diffs."
   ]
  },
  {
   "cell_type": "code",
   "execution_count": 9,
   "id": "38c8b315",
   "metadata": {},
   "outputs": [
    {
     "data": {
      "text/plain": [
       "YText()"
      ]
     },
     "execution_count": 9,
     "metadata": {},
     "output_type": "execute_result"
    },
    {
     "data": {
      "application/javascript": [
       "\n",
       "            setTimeout(function() {\n",
       "                var nbb_cell_id = 9;\n",
       "                var nbb_unformatted_code = \"ytext = doc.get_text(\\\"text-key\\\")\\nytext\";\n",
       "                var nbb_formatted_code = \"ytext = doc.get_text(\\\"text-key\\\")\\nytext\";\n",
       "                var nbb_cells = Jupyter.notebook.get_cells();\n",
       "                for (var i = 0; i < nbb_cells.length; ++i) {\n",
       "                    if (nbb_cells[i].input_prompt_number == nbb_cell_id) {\n",
       "                        if (nbb_cells[i].get_text() == nbb_unformatted_code) {\n",
       "                             nbb_cells[i].set_text(nbb_formatted_code);\n",
       "                        }\n",
       "                        break;\n",
       "                    }\n",
       "                }\n",
       "            }, 500);\n",
       "            "
      ],
      "text/plain": [
       "<IPython.core.display.Javascript object>"
      ]
     },
     "metadata": {},
     "output_type": "display_data"
    }
   ],
   "source": [
    "ytext = doc.get_text(\"text-key\")\n",
    "ytext"
   ]
  },
  {
   "cell_type": "code",
   "execution_count": 10,
   "id": "c7a3ff6d",
   "metadata": {},
   "outputs": [
    {
     "data": {
      "text/plain": [
       "''"
      ]
     },
     "execution_count": 10,
     "metadata": {},
     "output_type": "execute_result"
    },
    {
     "data": {
      "application/javascript": [
       "\n",
       "            setTimeout(function() {\n",
       "                var nbb_cell_id = 10;\n",
       "                var nbb_unformatted_code = \"str(ytext)\";\n",
       "                var nbb_formatted_code = \"str(ytext)\";\n",
       "                var nbb_cells = Jupyter.notebook.get_cells();\n",
       "                for (var i = 0; i < nbb_cells.length; ++i) {\n",
       "                    if (nbb_cells[i].input_prompt_number == nbb_cell_id) {\n",
       "                        if (nbb_cells[i].get_text() == nbb_unformatted_code) {\n",
       "                             nbb_cells[i].set_text(nbb_formatted_code);\n",
       "                        }\n",
       "                        break;\n",
       "                    }\n",
       "                }\n",
       "            }, 500);\n",
       "            "
      ],
      "text/plain": [
       "<IPython.core.display.Javascript object>"
      ]
     },
     "metadata": {},
     "output_type": "display_data"
    }
   ],
   "source": [
    "str(ytext)"
   ]
  },
  {
   "cell_type": "code",
   "execution_count": 11,
   "id": "41ff87f7",
   "metadata": {},
   "outputs": [
    {
     "data": {
      "text/plain": [
       "b'\\x00\\x00'"
      ]
     },
     "execution_count": 11,
     "metadata": {},
     "output_type": "execute_result"
    },
    {
     "data": {
      "application/javascript": [
       "\n",
       "            setTimeout(function() {\n",
       "                var nbb_cell_id = 11;\n",
       "                var nbb_unformatted_code = \"# Have we added anything to linear history yet by making\\n# a reference to the 'text-key'? No.\\ndoc.begin_transaction().diff_v1()\";\n",
       "                var nbb_formatted_code = \"# Have we added anything to linear history yet by making\\n# a reference to the 'text-key'? No.\\ndoc.begin_transaction().diff_v1()\";\n",
       "                var nbb_cells = Jupyter.notebook.get_cells();\n",
       "                for (var i = 0; i < nbb_cells.length; ++i) {\n",
       "                    if (nbb_cells[i].input_prompt_number == nbb_cell_id) {\n",
       "                        if (nbb_cells[i].get_text() == nbb_unformatted_code) {\n",
       "                             nbb_cells[i].set_text(nbb_formatted_code);\n",
       "                        }\n",
       "                        break;\n",
       "                    }\n",
       "                }\n",
       "            }, 500);\n",
       "            "
      ],
      "text/plain": [
       "<IPython.core.display.Javascript object>"
      ]
     },
     "metadata": {},
     "output_type": "display_data"
    }
   ],
   "source": [
    "# Have we added anything to linear history yet by making\n",
    "# a reference to the 'text-key'? No.\n",
    "doc.begin_transaction().diff_v1()"
   ]
  },
  {
   "cell_type": "code",
   "execution_count": 12,
   "id": "d44fcb1c",
   "metadata": {},
   "outputs": [
    {
     "data": {
      "text/plain": [
       "YText(foo)"
      ]
     },
     "execution_count": 12,
     "metadata": {},
     "output_type": "execute_result"
    },
    {
     "data": {
      "application/javascript": [
       "\n",
       "            setTimeout(function() {\n",
       "                var nbb_cell_id = 12;\n",
       "                var nbb_unformatted_code = \"# Now write something to that YText data type\\nwith doc.begin_transaction() as txn:\\n    ytext.extend(txn, \\\"foo\\\")\\n\\nytext\";\n",
       "                var nbb_formatted_code = \"# Now write something to that YText data type\\nwith doc.begin_transaction() as txn:\\n    ytext.extend(txn, \\\"foo\\\")\\n\\nytext\";\n",
       "                var nbb_cells = Jupyter.notebook.get_cells();\n",
       "                for (var i = 0; i < nbb_cells.length; ++i) {\n",
       "                    if (nbb_cells[i].input_prompt_number == nbb_cell_id) {\n",
       "                        if (nbb_cells[i].get_text() == nbb_unformatted_code) {\n",
       "                             nbb_cells[i].set_text(nbb_formatted_code);\n",
       "                        }\n",
       "                        break;\n",
       "                    }\n",
       "                }\n",
       "            }, 500);\n",
       "            "
      ],
      "text/plain": [
       "<IPython.core.display.Javascript object>"
      ]
     },
     "metadata": {},
     "output_type": "display_data"
    }
   ],
   "source": [
    "# Now write something to that YText data type\n",
    "with doc.begin_transaction() as txn:\n",
    "    ytext.extend(txn, \"foo\")\n",
    "\n",
    "ytext"
   ]
  },
  {
   "cell_type": "code",
   "execution_count": 13,
   "id": "07a44177",
   "metadata": {},
   "outputs": [
    {
     "data": {
      "text/plain": [
       "'foo'"
      ]
     },
     "execution_count": 13,
     "metadata": {},
     "output_type": "execute_result"
    },
    {
     "data": {
      "application/javascript": [
       "\n",
       "            setTimeout(function() {\n",
       "                var nbb_cell_id = 13;\n",
       "                var nbb_unformatted_code = \"str(ytext)\";\n",
       "                var nbb_formatted_code = \"str(ytext)\";\n",
       "                var nbb_cells = Jupyter.notebook.get_cells();\n",
       "                for (var i = 0; i < nbb_cells.length; ++i) {\n",
       "                    if (nbb_cells[i].input_prompt_number == nbb_cell_id) {\n",
       "                        if (nbb_cells[i].get_text() == nbb_unformatted_code) {\n",
       "                             nbb_cells[i].set_text(nbb_formatted_code);\n",
       "                        }\n",
       "                        break;\n",
       "                    }\n",
       "                }\n",
       "            }, 500);\n",
       "            "
      ],
      "text/plain": [
       "<IPython.core.display.Javascript object>"
      ]
     },
     "metadata": {},
     "output_type": "display_data"
    }
   ],
   "source": [
    "str(ytext)"
   ]
  },
  {
   "cell_type": "code",
   "execution_count": 14,
   "id": "be40bf3a",
   "metadata": {},
   "outputs": [
    {
     "data": {
      "text/plain": [
       "b'\\x01\\x01\\x99\\x8a\\x8b\\x8f\\x0b\\x00\\x04\\x01\\x08text-key\\x03foo\\x00'"
      ]
     },
     "execution_count": 14,
     "metadata": {},
     "output_type": "execute_result"
    },
    {
     "data": {
      "application/javascript": [
       "\n",
       "            setTimeout(function() {\n",
       "                var nbb_cell_id = 14;\n",
       "                var nbb_unformatted_code = \"doc.begin_transaction().diff_v1()\";\n",
       "                var nbb_formatted_code = \"doc.begin_transaction().diff_v1()\";\n",
       "                var nbb_cells = Jupyter.notebook.get_cells();\n",
       "                for (var i = 0; i < nbb_cells.length; ++i) {\n",
       "                    if (nbb_cells[i].input_prompt_number == nbb_cell_id) {\n",
       "                        if (nbb_cells[i].get_text() == nbb_unformatted_code) {\n",
       "                             nbb_cells[i].set_text(nbb_formatted_code);\n",
       "                        }\n",
       "                        break;\n",
       "                    }\n",
       "                }\n",
       "            }, 500);\n",
       "            "
      ],
      "text/plain": [
       "<IPython.core.display.Javascript object>"
      ]
     },
     "metadata": {},
     "output_type": "display_data"
    }
   ],
   "source": [
    "doc.begin_transaction().diff_v1()"
   ]
  },
  {
   "cell_type": "code",
   "execution_count": 15,
   "id": "8448f4c5",
   "metadata": {},
   "outputs": [
    {
     "data": {
      "text/plain": [
       "b'\\x01\\x99\\x8a\\x8b\\x8f\\x0b\\x03'"
      ]
     },
     "execution_count": 15,
     "metadata": {},
     "output_type": "execute_result"
    },
    {
     "data": {
      "application/javascript": [
       "\n",
       "            setTimeout(function() {\n",
       "                var nbb_cell_id = 15;\n",
       "                var nbb_unformatted_code = \"doc.begin_transaction().state_vector_v1()\";\n",
       "                var nbb_formatted_code = \"doc.begin_transaction().state_vector_v1()\";\n",
       "                var nbb_cells = Jupyter.notebook.get_cells();\n",
       "                for (var i = 0; i < nbb_cells.length; ++i) {\n",
       "                    if (nbb_cells[i].input_prompt_number == nbb_cell_id) {\n",
       "                        if (nbb_cells[i].get_text() == nbb_unformatted_code) {\n",
       "                             nbb_cells[i].set_text(nbb_formatted_code);\n",
       "                        }\n",
       "                        break;\n",
       "                    }\n",
       "                }\n",
       "            }, 500);\n",
       "            "
      ],
      "text/plain": [
       "<IPython.core.display.Javascript object>"
      ]
     },
     "metadata": {},
     "output_type": "display_data"
    }
   ],
   "source": [
    "doc.begin_transaction().state_vector_v1()"
   ]
  },
  {
   "cell_type": "markdown",
   "id": "5962f582",
   "metadata": {},
   "source": [
    "## Syncing clients\n",
    "\n",
    "Now that we have a YDoc with some attached data, let's see how to sync another client. In other words, create another YDoc and apply the linear history from our first document to the new one.\n",
    "\n",
    "In a real application, this syncing is handled by `providers` like `y-websocket` or `y-webrtc` and includes some extra messaging protocol (https://github.com/yjs/y-protocols/blob/master/PROTOCOL.md) besides passing state vectors and diffs. But this demonstration should give you the right foundation for how clients sync."
   ]
  },
  {
   "cell_type": "code",
   "execution_count": 16,
   "id": "e1dfc00e",
   "metadata": {},
   "outputs": [
    {
     "data": {
      "text/plain": [
       "<YDoc at 0x7f3b38de5510>"
      ]
     },
     "execution_count": 16,
     "metadata": {},
     "output_type": "execute_result"
    },
    {
     "data": {
      "application/javascript": [
       "\n",
       "            setTimeout(function() {\n",
       "                var nbb_cell_id = 16;\n",
       "                var nbb_unformatted_code = \"new_doc = Y.YDoc()\\nnew_doc\";\n",
       "                var nbb_formatted_code = \"new_doc = Y.YDoc()\\nnew_doc\";\n",
       "                var nbb_cells = Jupyter.notebook.get_cells();\n",
       "                for (var i = 0; i < nbb_cells.length; ++i) {\n",
       "                    if (nbb_cells[i].input_prompt_number == nbb_cell_id) {\n",
       "                        if (nbb_cells[i].get_text() == nbb_unformatted_code) {\n",
       "                             nbb_cells[i].set_text(nbb_formatted_code);\n",
       "                        }\n",
       "                        break;\n",
       "                    }\n",
       "                }\n",
       "            }, 500);\n",
       "            "
      ],
      "text/plain": [
       "<IPython.core.display.Javascript object>"
      ]
     },
     "metadata": {},
     "output_type": "display_data"
    }
   ],
   "source": [
    "new_doc = Y.YDoc()\n",
    "new_doc"
   ]
  },
  {
   "cell_type": "code",
   "execution_count": 17,
   "id": "aacddfc3",
   "metadata": {},
   "outputs": [
    {
     "data": {
      "text/plain": [
       "''"
      ]
     },
     "execution_count": 17,
     "metadata": {},
     "output_type": "execute_result"
    },
    {
     "data": {
      "application/javascript": [
       "\n",
       "            setTimeout(function() {\n",
       "                var nbb_cell_id = 17;\n",
       "                var nbb_unformatted_code = \"str(new_doc.get_text(\\\"text-key\\\"))\";\n",
       "                var nbb_formatted_code = \"str(new_doc.get_text(\\\"text-key\\\"))\";\n",
       "                var nbb_cells = Jupyter.notebook.get_cells();\n",
       "                for (var i = 0; i < nbb_cells.length; ++i) {\n",
       "                    if (nbb_cells[i].input_prompt_number == nbb_cell_id) {\n",
       "                        if (nbb_cells[i].get_text() == nbb_unformatted_code) {\n",
       "                             nbb_cells[i].set_text(nbb_formatted_code);\n",
       "                        }\n",
       "                        break;\n",
       "                    }\n",
       "                }\n",
       "            }, 500);\n",
       "            "
      ],
      "text/plain": [
       "<IPython.core.display.Javascript object>"
      ]
     },
     "metadata": {},
     "output_type": "display_data"
    }
   ],
   "source": [
    "str(new_doc.get_text(\"text-key\"))"
   ]
  },
  {
   "cell_type": "code",
   "execution_count": 18,
   "id": "0bb05031",
   "metadata": {},
   "outputs": [
    {
     "data": {
      "text/plain": [
       "b'\\x00'"
      ]
     },
     "execution_count": 18,
     "metadata": {},
     "output_type": "execute_result"
    },
    {
     "data": {
      "application/javascript": [
       "\n",
       "            setTimeout(function() {\n",
       "                var nbb_cell_id = 18;\n",
       "                var nbb_unformatted_code = \"# We expect a brand new doc to have a state vector of b'\\\\x00'\\nnew_doc.begin_transaction().state_vector_v1()\";\n",
       "                var nbb_formatted_code = \"# We expect a brand new doc to have a state vector of b'\\\\x00'\\nnew_doc.begin_transaction().state_vector_v1()\";\n",
       "                var nbb_cells = Jupyter.notebook.get_cells();\n",
       "                for (var i = 0; i < nbb_cells.length; ++i) {\n",
       "                    if (nbb_cells[i].input_prompt_number == nbb_cell_id) {\n",
       "                        if (nbb_cells[i].get_text() == nbb_unformatted_code) {\n",
       "                             nbb_cells[i].set_text(nbb_formatted_code);\n",
       "                        }\n",
       "                        break;\n",
       "                    }\n",
       "                }\n",
       "            }, 500);\n",
       "            "
      ],
      "text/plain": [
       "<IPython.core.display.Javascript object>"
      ]
     },
     "metadata": {},
     "output_type": "display_data"
    }
   ],
   "source": [
    "# We expect a brand new doc to have a state vector of b'\\x00'\n",
    "new_doc.begin_transaction().state_vector_v1()"
   ]
  },
  {
   "cell_type": "code",
   "execution_count": 19,
   "id": "3cb5111b",
   "metadata": {},
   "outputs": [
    {
     "data": {
      "text/plain": [
       "b'\\x00\\x00'"
      ]
     },
     "execution_count": 19,
     "metadata": {},
     "output_type": "execute_result"
    },
    {
     "data": {
      "application/javascript": [
       "\n",
       "            setTimeout(function() {\n",
       "                var nbb_cell_id = 19;\n",
       "                var nbb_unformatted_code = \"# We expect a brand new doc to have a diff of b'\\\\x00\\\\x00'\\nnew_doc.begin_transaction().diff_v1()\";\n",
       "                var nbb_formatted_code = \"# We expect a brand new doc to have a diff of b'\\\\x00\\\\x00'\\nnew_doc.begin_transaction().diff_v1()\";\n",
       "                var nbb_cells = Jupyter.notebook.get_cells();\n",
       "                for (var i = 0; i < nbb_cells.length; ++i) {\n",
       "                    if (nbb_cells[i].input_prompt_number == nbb_cell_id) {\n",
       "                        if (nbb_cells[i].get_text() == nbb_unformatted_code) {\n",
       "                             nbb_cells[i].set_text(nbb_formatted_code);\n",
       "                        }\n",
       "                        break;\n",
       "                    }\n",
       "                }\n",
       "            }, 500);\n",
       "            "
      ],
      "text/plain": [
       "<IPython.core.display.Javascript object>"
      ]
     },
     "metadata": {},
     "output_type": "display_data"
    }
   ],
   "source": [
    "# We expect a brand new doc to have a diff of b'\\x00\\x00'\n",
    "new_doc.begin_transaction().diff_v1()"
   ]
  },
  {
   "cell_type": "code",
   "execution_count": 20,
   "id": "ad03bc12",
   "metadata": {},
   "outputs": [
    {
     "data": {
      "text/plain": [
       "<YDoc at 0x7f3b38de5510>"
      ]
     },
     "execution_count": 20,
     "metadata": {},
     "output_type": "execute_result"
    },
    {
     "data": {
      "application/javascript": [
       "\n",
       "            setTimeout(function() {\n",
       "                var nbb_cell_id = 20;\n",
       "                var nbb_unformatted_code = \"# Apply the diff from our first client to this new one\\n# In provider/protocol docs, this could read as:\\n# - local (new) client sends Sync Step 1 (its own state vector)\\nsv = new_doc.begin_transaction().state_vector_v1()\\n# - remote client sends Sync Step 2 (the diff/delta/update to apply to catch up)\\ndiff = doc.begin_transaction().diff_v1(sv)\\n# - local (new) client catches up, and is now okay to make changes and\\n# send out updates that other clients could apply\\nnew_doc.begin_transaction().apply_v1(diff)\\nnew_doc\";\n",
       "                var nbb_formatted_code = \"# Apply the diff from our first client to this new one\\n# In provider/protocol docs, this could read as:\\n# - local (new) client sends Sync Step 1 (its own state vector)\\nsv = new_doc.begin_transaction().state_vector_v1()\\n# - remote client sends Sync Step 2 (the diff/delta/update to apply to catch up)\\ndiff = doc.begin_transaction().diff_v1(sv)\\n# - local (new) client catches up, and is now okay to make changes and\\n# send out updates that other clients could apply\\nnew_doc.begin_transaction().apply_v1(diff)\\nnew_doc\";\n",
       "                var nbb_cells = Jupyter.notebook.get_cells();\n",
       "                for (var i = 0; i < nbb_cells.length; ++i) {\n",
       "                    if (nbb_cells[i].input_prompt_number == nbb_cell_id) {\n",
       "                        if (nbb_cells[i].get_text() == nbb_unformatted_code) {\n",
       "                             nbb_cells[i].set_text(nbb_formatted_code);\n",
       "                        }\n",
       "                        break;\n",
       "                    }\n",
       "                }\n",
       "            }, 500);\n",
       "            "
      ],
      "text/plain": [
       "<IPython.core.display.Javascript object>"
      ]
     },
     "metadata": {},
     "output_type": "display_data"
    }
   ],
   "source": [
    "# Apply the diff from our first client to this new one\n",
    "# In provider/protocol docs, this could read as:\n",
    "# - local (new) client sends Sync Step 1 (its own state vector)\n",
    "sv = new_doc.begin_transaction().state_vector_v1()\n",
    "# - remote client sends Sync Step 2 (the diff/delta/update to apply to catch up)\n",
    "diff = doc.begin_transaction().diff_v1(sv)\n",
    "# - local (new) client catches up, and is now okay to make changes and\n",
    "# send out updates that other clients could apply\n",
    "new_doc.begin_transaction().apply_v1(diff)\n",
    "new_doc"
   ]
  },
  {
   "cell_type": "code",
   "execution_count": 21,
   "id": "6226a560",
   "metadata": {},
   "outputs": [
    {
     "data": {
      "text/plain": [
       "'foo'"
      ]
     },
     "execution_count": 21,
     "metadata": {},
     "output_type": "execute_result"
    },
    {
     "data": {
      "application/javascript": [
       "\n",
       "            setTimeout(function() {\n",
       "                var nbb_cell_id = 21;\n",
       "                var nbb_unformatted_code = \"str(new_doc.get_text(\\\"text-key\\\"))\";\n",
       "                var nbb_formatted_code = \"str(new_doc.get_text(\\\"text-key\\\"))\";\n",
       "                var nbb_cells = Jupyter.notebook.get_cells();\n",
       "                for (var i = 0; i < nbb_cells.length; ++i) {\n",
       "                    if (nbb_cells[i].input_prompt_number == nbb_cell_id) {\n",
       "                        if (nbb_cells[i].get_text() == nbb_unformatted_code) {\n",
       "                             nbb_cells[i].set_text(nbb_formatted_code);\n",
       "                        }\n",
       "                        break;\n",
       "                    }\n",
       "                }\n",
       "            }, 500);\n",
       "            "
      ],
      "text/plain": [
       "<IPython.core.display.Javascript object>"
      ]
     },
     "metadata": {},
     "output_type": "display_data"
    }
   ],
   "source": [
    "str(new_doc.get_text(\"text-key\"))"
   ]
  },
  {
   "cell_type": "code",
   "execution_count": 22,
   "id": "1cd760f7",
   "metadata": {},
   "outputs": [
    {
     "data": {
      "text/plain": [
       "b'\\x01\\x99\\x8a\\x8b\\x8f\\x0b\\x03'"
      ]
     },
     "execution_count": 22,
     "metadata": {},
     "output_type": "execute_result"
    },
    {
     "data": {
      "application/javascript": [
       "\n",
       "            setTimeout(function() {\n",
       "                var nbb_cell_id = 22;\n",
       "                var nbb_unformatted_code = \"new_doc.begin_transaction().state_vector_v1()\";\n",
       "                var nbb_formatted_code = \"new_doc.begin_transaction().state_vector_v1()\";\n",
       "                var nbb_cells = Jupyter.notebook.get_cells();\n",
       "                for (var i = 0; i < nbb_cells.length; ++i) {\n",
       "                    if (nbb_cells[i].input_prompt_number == nbb_cell_id) {\n",
       "                        if (nbb_cells[i].get_text() == nbb_unformatted_code) {\n",
       "                             nbb_cells[i].set_text(nbb_formatted_code);\n",
       "                        }\n",
       "                        break;\n",
       "                    }\n",
       "                }\n",
       "            }, 500);\n",
       "            "
      ],
      "text/plain": [
       "<IPython.core.display.Javascript object>"
      ]
     },
     "metadata": {},
     "output_type": "display_data"
    }
   ],
   "source": [
    "new_doc.begin_transaction().state_vector_v1()"
   ]
  },
  {
   "cell_type": "markdown",
   "id": "440ba454",
   "metadata": {},
   "source": [
    "## Observing changes\n",
    "\n",
    "Y-CRDT allows us to attach observers to the shared data types though, which offer friendlier updates. We can also attach an observer to the top level YDoc but it doesn't yield as useful information."
   ]
  },
  {
   "cell_type": "code",
   "execution_count": 23,
   "id": "26758424",
   "metadata": {},
   "outputs": [
    {
     "name": "stdout",
     "output_type": "stream",
     "text": [
      "called after a transaction (anything changed with the Doc)\n",
      "Before state: b'\\x00'\n",
      "After state: b'\\x00'\n",
      "Diff: b'\\x00\\x00'\n",
      "\n"
     ]
    },
    {
     "data": {
      "text/plain": [
       "<YDoc at 0x7f3b38dff4b0>"
      ]
     },
     "execution_count": 23,
     "metadata": {},
     "output_type": "execute_result"
    },
    {
     "data": {
      "application/javascript": [
       "\n",
       "            setTimeout(function() {\n",
       "                var nbb_cell_id = 23;\n",
       "                var nbb_unformatted_code = \"third_doc = Y.YDoc()\\n\\n\\ndef obs_doc(event: Y.AfterTransactionEvent):\\n    print(\\\"called after a transaction (anything changed with the Doc)\\\")\\n    print(f\\\"Before state: {event.before_state}\\\")\\n    print(f\\\"After state: {event.after_state}\\\")\\n    print(f\\\"Diff: {event.get_update()}\\\")\\n    print(\\\"\\\")\\n\\n\\nthird_doc.observe_after_transaction(obs_doc)\\n\\n\\ndef obs_text(event: Y.YTextEvent):\\n    print(\\\"called when a YText data type has changed\\\")\\n    print(event)\\n    print(\\\"\\\")\\n\\n\\nthird_doc.get_text(\\\"text-key\\\").observe(obs_text)\\n\\nthird_doc\";\n",
       "                var nbb_formatted_code = \"third_doc = Y.YDoc()\\n\\n\\ndef obs_doc(event: Y.AfterTransactionEvent):\\n    print(\\\"called after a transaction (anything changed with the Doc)\\\")\\n    print(f\\\"Before state: {event.before_state}\\\")\\n    print(f\\\"After state: {event.after_state}\\\")\\n    print(f\\\"Diff: {event.get_update()}\\\")\\n    print(\\\"\\\")\\n\\n\\nthird_doc.observe_after_transaction(obs_doc)\\n\\n\\ndef obs_text(event: Y.YTextEvent):\\n    print(\\\"called when a YText data type has changed\\\")\\n    print(event)\\n    print(\\\"\\\")\\n\\n\\nthird_doc.get_text(\\\"text-key\\\").observe(obs_text)\\n\\nthird_doc\";\n",
       "                var nbb_cells = Jupyter.notebook.get_cells();\n",
       "                for (var i = 0; i < nbb_cells.length; ++i) {\n",
       "                    if (nbb_cells[i].input_prompt_number == nbb_cell_id) {\n",
       "                        if (nbb_cells[i].get_text() == nbb_unformatted_code) {\n",
       "                             nbb_cells[i].set_text(nbb_formatted_code);\n",
       "                        }\n",
       "                        break;\n",
       "                    }\n",
       "                }\n",
       "            }, 500);\n",
       "            "
      ],
      "text/plain": [
       "<IPython.core.display.Javascript object>"
      ]
     },
     "metadata": {},
     "output_type": "display_data"
    }
   ],
   "source": [
    "third_doc = Y.YDoc()\n",
    "\n",
    "\n",
    "def obs_doc(event: Y.AfterTransactionEvent):\n",
    "    print(\"called after a transaction (anything changed with the Doc)\")\n",
    "    print(f\"Before state: {event.before_state}\")\n",
    "    print(f\"After state: {event.after_state}\")\n",
    "    print(f\"Diff: {event.get_update()}\")\n",
    "    print(\"\")\n",
    "\n",
    "\n",
    "third_doc.observe_after_transaction(obs_doc)\n",
    "\n",
    "\n",
    "def obs_text(event: Y.YTextEvent):\n",
    "    print(\"called when a YText data type has changed\")\n",
    "    print(event)\n",
    "    print(\"\")\n",
    "\n",
    "\n",
    "third_doc.get_text(\"text-key\").observe(obs_text)\n",
    "\n",
    "third_doc"
   ]
  },
  {
   "cell_type": "code",
   "execution_count": 24,
   "id": "ec087634",
   "metadata": {},
   "outputs": [
    {
     "name": "stdout",
     "output_type": "stream",
     "text": [
      "called when a YText data type has changed\n",
      "YTextEvent(target=foo, delta=[{'insert': 'foo'}], path=[])\n",
      "\n",
      "called after a transaction (anything changed with the Doc)\n",
      "Before state: b'\\x00'\n",
      "After state: b'\\x01\\x99\\x8a\\x8b\\x8f\\x0b\\x03'\n",
      "Diff: b'\\x01\\x01\\x99\\x8a\\x8b\\x8f\\x0b\\x00\\x04\\x01\\x08text-key\\x03foo\\x00'\n",
      "\n"
     ]
    },
    {
     "data": {
      "text/plain": [
       "<YDoc at 0x7f3b38de5510>"
      ]
     },
     "execution_count": 24,
     "metadata": {},
     "output_type": "execute_result"
    },
    {
     "data": {
      "application/javascript": [
       "\n",
       "            setTimeout(function() {\n",
       "                var nbb_cell_id = 24;\n",
       "                var nbb_unformatted_code = \"diff = doc.begin_transaction().diff_v1()\\nthird_doc.begin_transaction().apply_v1(diff)\\nnew_doc\";\n",
       "                var nbb_formatted_code = \"diff = doc.begin_transaction().diff_v1()\\nthird_doc.begin_transaction().apply_v1(diff)\\nnew_doc\";\n",
       "                var nbb_cells = Jupyter.notebook.get_cells();\n",
       "                for (var i = 0; i < nbb_cells.length; ++i) {\n",
       "                    if (nbb_cells[i].input_prompt_number == nbb_cell_id) {\n",
       "                        if (nbb_cells[i].get_text() == nbb_unformatted_code) {\n",
       "                             nbb_cells[i].set_text(nbb_formatted_code);\n",
       "                        }\n",
       "                        break;\n",
       "                    }\n",
       "                }\n",
       "            }, 500);\n",
       "            "
      ],
      "text/plain": [
       "<IPython.core.display.Javascript object>"
      ]
     },
     "metadata": {},
     "output_type": "display_data"
    }
   ],
   "source": [
    "diff = doc.begin_transaction().diff_v1()\n",
    "third_doc.begin_transaction().apply_v1(diff)\n",
    "new_doc"
   ]
  },
  {
   "cell_type": "code",
   "execution_count": 25,
   "id": "d9003c0e",
   "metadata": {},
   "outputs": [
    {
     "name": "stdout",
     "output_type": "stream",
     "text": [
      "called when a YText data type has changed\n",
      "YTextEvent(target=barfoo, delta=[{'insert': 'bar'}], path=[])\n",
      "\n",
      "called after a transaction (anything changed with the Doc)\n",
      "Before state: b'\\x01\\x99\\x8a\\x8b\\x8f\\x0b\\x03'\n",
      "After state: b'\\x02\\x99\\x8a\\x8b\\x8f\\x0b\\x03\\x9a\\xbc\\xda\\xb9\\x04\\x03'\n",
      "Diff: b'\\x01\\x01\\x9a\\xbc\\xda\\xb9\\x04\\x00D\\x99\\x8a\\x8b\\x8f\\x0b\\x00\\x03bar\\x00'\n",
      "\n"
     ]
    },
    {
     "data": {
      "text/plain": [
       "YText(barfoo)"
      ]
     },
     "execution_count": 25,
     "metadata": {},
     "output_type": "execute_result"
    },
    {
     "data": {
      "application/javascript": [
       "\n",
       "            setTimeout(function() {\n",
       "                var nbb_cell_id = 25;\n",
       "                var nbb_unformatted_code = \"# Make a few other changes to the text doc\\n# Note how multiple changes can be made in one transaction\\nwith third_doc.begin_transaction() as txn:\\n    ytext = txn.get_text(\\\"text-key\\\")\\n    # write bar at the start of the string, so should be 'barfoo'\\n    ytext.insert(txn, 0, \\\"bar\\\")\\n\\nytext\";\n",
       "                var nbb_formatted_code = \"# Make a few other changes to the text doc\\n# Note how multiple changes can be made in one transaction\\nwith third_doc.begin_transaction() as txn:\\n    ytext = txn.get_text(\\\"text-key\\\")\\n    # write bar at the start of the string, so should be 'barfoo'\\n    ytext.insert(txn, 0, \\\"bar\\\")\\n\\nytext\";\n",
       "                var nbb_cells = Jupyter.notebook.get_cells();\n",
       "                for (var i = 0; i < nbb_cells.length; ++i) {\n",
       "                    if (nbb_cells[i].input_prompt_number == nbb_cell_id) {\n",
       "                        if (nbb_cells[i].get_text() == nbb_unformatted_code) {\n",
       "                             nbb_cells[i].set_text(nbb_formatted_code);\n",
       "                        }\n",
       "                        break;\n",
       "                    }\n",
       "                }\n",
       "            }, 500);\n",
       "            "
      ],
      "text/plain": [
       "<IPython.core.display.Javascript object>"
      ]
     },
     "metadata": {},
     "output_type": "display_data"
    }
   ],
   "source": [
    "# Make a few other changes to the text doc\n",
    "# Note how multiple changes can be made in one transaction\n",
    "with third_doc.begin_transaction() as txn:\n",
    "    ytext = txn.get_text(\"text-key\")\n",
    "    # write bar at the start of the string, so should be 'barfoo'\n",
    "    ytext.insert(txn, 0, \"bar\")\n",
    "\n",
    "ytext"
   ]
  },
  {
   "cell_type": "code",
   "execution_count": 26,
   "id": "ccabb0d1",
   "metadata": {},
   "outputs": [
    {
     "name": "stdout",
     "output_type": "stream",
     "text": [
      "called when a YText data type has changed\n",
      "YTextEvent(target=boo, delta=[{'retain': 1}, {'delete': 3}], path=[])\n",
      "\n",
      "called after a transaction (anything changed with the Doc)\n",
      "Before state: b'\\x02\\x99\\x8a\\x8b\\x8f\\x0b\\x03\\x9a\\xbc\\xda\\xb9\\x04\\x03'\n",
      "After state: b'\\x02\\x99\\x8a\\x8b\\x8f\\x0b\\x03\\x9a\\xbc\\xda\\xb9\\x04\\x03'\n",
      "Diff: b'\\x00\\x02\\x99\\x8a\\x8b\\x8f\\x0b\\x01\\x00\\x01\\x9a\\xbc\\xda\\xb9\\x04\\x01\\x01\\x02'\n",
      "\n"
     ]
    },
    {
     "data": {
      "text/plain": [
       "YText(boo)"
      ]
     },
     "execution_count": 26,
     "metadata": {},
     "output_type": "execute_result"
    },
    {
     "data": {
      "application/javascript": [
       "\n",
       "            setTimeout(function() {\n",
       "                var nbb_cell_id = 26;\n",
       "                var nbb_unformatted_code = \"with third_doc.begin_transaction() as txn:\\n    # delete 3 characters starting at index 1, should be 'boo'\\n    ytext.delete_range(txn, index=1, length=3)\\n\\nytext\";\n",
       "                var nbb_formatted_code = \"with third_doc.begin_transaction() as txn:\\n    # delete 3 characters starting at index 1, should be 'boo'\\n    ytext.delete_range(txn, index=1, length=3)\\n\\nytext\";\n",
       "                var nbb_cells = Jupyter.notebook.get_cells();\n",
       "                for (var i = 0; i < nbb_cells.length; ++i) {\n",
       "                    if (nbb_cells[i].input_prompt_number == nbb_cell_id) {\n",
       "                        if (nbb_cells[i].get_text() == nbb_unformatted_code) {\n",
       "                             nbb_cells[i].set_text(nbb_formatted_code);\n",
       "                        }\n",
       "                        break;\n",
       "                    }\n",
       "                }\n",
       "            }, 500);\n",
       "            "
      ],
      "text/plain": [
       "<IPython.core.display.Javascript object>"
      ]
     },
     "metadata": {},
     "output_type": "display_data"
    }
   ],
   "source": [
    "with third_doc.begin_transaction() as txn:\n",
    "    # delete 3 characters starting at index 1, should be 'boo'\n",
    "    ytext.delete_range(txn, index=1, length=3)\n",
    "\n",
    "ytext"
   ]
  },
  {
   "cell_type": "code",
   "execution_count": 27,
   "id": "e443e263",
   "metadata": {},
   "outputs": [
    {
     "name": "stdout",
     "output_type": "stream",
     "text": [
      "called when a YText data type has changed\n",
      "YTextEvent(target=boo3, delta=[{'retain': 3}, {'insert': '3'}], path=[])\n",
      "\n",
      "called after a transaction (anything changed with the Doc)\n",
      "Before state: b'\\x02\\x99\\x8a\\x8b\\x8f\\x0b\\x03\\x9a\\xbc\\xda\\xb9\\x04\\x03'\n",
      "After state: b'\\x02\\x99\\x8a\\x8b\\x8f\\x0b\\x03\\x9a\\xbc\\xda\\xb9\\x04\\x06'\n",
      "Diff: b'\\x01\\x02\\x9a\\xbc\\xda\\xb9\\x04\\x03\\x81\\x99\\x8a\\x8b\\x8f\\x0b\\x02\\x02\\x84\\x9a\\xbc\\xda\\xb9\\x04\\x04\\x013\\x01\\x9a\\xbc\\xda\\xb9\\x04\\x01\\x03\\x02'\n",
      "\n"
     ]
    },
    {
     "data": {
      "text/plain": [
       "YText(boo3)"
      ]
     },
     "execution_count": 27,
     "metadata": {},
     "output_type": "execute_result"
    },
    {
     "data": {
      "application/javascript": [
       "\n",
       "            setTimeout(function() {\n",
       "                var nbb_cell_id = 27;\n",
       "                var nbb_unformatted_code = \"# Note we can make multiple changes in one txn and\\n# the observed Event will only show the computed changes\\nwith third_doc.begin_transaction() as txn:\\n    # add '123' so we have 'boo123'\\n    ytext.extend(txn, \\\"123\\\")\\n    # delete two characters starting at index 3 so we have boo3\\n    ytext.delete_range(txn, 3, 2)\\nytext\";\n",
       "                var nbb_formatted_code = \"# Note we can make multiple changes in one txn and\\n# the observed Event will only show the computed changes\\nwith third_doc.begin_transaction() as txn:\\n    # add '123' so we have 'boo123'\\n    ytext.extend(txn, \\\"123\\\")\\n    # delete two characters starting at index 3 so we have boo3\\n    ytext.delete_range(txn, 3, 2)\\nytext\";\n",
       "                var nbb_cells = Jupyter.notebook.get_cells();\n",
       "                for (var i = 0; i < nbb_cells.length; ++i) {\n",
       "                    if (nbb_cells[i].input_prompt_number == nbb_cell_id) {\n",
       "                        if (nbb_cells[i].get_text() == nbb_unformatted_code) {\n",
       "                             nbb_cells[i].set_text(nbb_formatted_code);\n",
       "                        }\n",
       "                        break;\n",
       "                    }\n",
       "                }\n",
       "            }, 500);\n",
       "            "
      ],
      "text/plain": [
       "<IPython.core.display.Javascript object>"
      ]
     },
     "metadata": {},
     "output_type": "display_data"
    }
   ],
   "source": [
    "# Note we can make multiple changes in one txn and\n",
    "# the observed Event will only show the computed changes\n",
    "with third_doc.begin_transaction() as txn:\n",
    "    # add '123' so we have 'boo123'\n",
    "    ytext.extend(txn, \"123\")\n",
    "    # delete two characters starting at index 3 so we have boo3\n",
    "    ytext.delete_range(txn, 3, 2)\n",
    "ytext"
   ]
  },
  {
   "cell_type": "markdown",
   "id": "7204ceb4",
   "metadata": {},
   "source": [
    "## Another Sync\n",
    "\n",
    "Now that third_doc has several changes in its history, let's see what it looks like to sync our original doc with the changes (linear history)."
   ]
  },
  {
   "cell_type": "code",
   "execution_count": 28,
   "id": "0a24ea5e",
   "metadata": {},
   "outputs": [
    {
     "name": "stdout",
     "output_type": "stream",
     "text": [
      "called after a transaction (anything changed with the Doc)\n",
      "Before state: b'\\x02\\x99\\x8a\\x8b\\x8f\\x0b\\x03\\x9a\\xbc\\xda\\xb9\\x04\\x06'\n",
      "After state: b'\\x02\\x99\\x8a\\x8b\\x8f\\x0b\\x03\\x9a\\xbc\\xda\\xb9\\x04\\x06'\n",
      "Diff: b'\\x00\\x00'\n",
      "\n"
     ]
    },
    {
     "data": {
      "text/plain": [
       "b'\\x02\\x02\\x99\\x8a\\x8b\\x8f\\x0b\\x00\\x01\\x01\\x08text-key\\x01\\x84\\x99\\x8a\\x8b\\x8f\\x0b\\x00\\x02oo\\x04\\x9a\\xbc\\xda\\xb9\\x04\\x00D\\x99\\x8a\\x8b\\x8f\\x0b\\x00\\x01b\\xc1\\x9a\\xbc\\xda\\xb9\\x04\\x00\\x99\\x8a\\x8b\\x8f\\x0b\\x00\\x02\\x81\\x99\\x8a\\x8b\\x8f\\x0b\\x02\\x02\\x84\\x9a\\xbc\\xda\\xb9\\x04\\x04\\x013\\x02\\x99\\x8a\\x8b\\x8f\\x0b\\x01\\x00\\x01\\x9a\\xbc\\xda\\xb9\\x04\\x01\\x01\\x04'"
      ]
     },
     "execution_count": 28,
     "metadata": {},
     "output_type": "execute_result"
    },
    {
     "data": {
      "application/javascript": [
       "\n",
       "            setTimeout(function() {\n",
       "                var nbb_cell_id = 28;\n",
       "                var nbb_unformatted_code = \"# First let's see the difference between a \\\"full update\\\" for third_doc\\n# and an update calculated against the state vector of doc\\nfull_update = third_doc.begin_transaction().diff_v1()\\nfull_update\";\n",
       "                var nbb_formatted_code = \"# First let's see the difference between a \\\"full update\\\" for third_doc\\n# and an update calculated against the state vector of doc\\nfull_update = third_doc.begin_transaction().diff_v1()\\nfull_update\";\n",
       "                var nbb_cells = Jupyter.notebook.get_cells();\n",
       "                for (var i = 0; i < nbb_cells.length; ++i) {\n",
       "                    if (nbb_cells[i].input_prompt_number == nbb_cell_id) {\n",
       "                        if (nbb_cells[i].get_text() == nbb_unformatted_code) {\n",
       "                             nbb_cells[i].set_text(nbb_formatted_code);\n",
       "                        }\n",
       "                        break;\n",
       "                    }\n",
       "                }\n",
       "            }, 500);\n",
       "            "
      ],
      "text/plain": [
       "<IPython.core.display.Javascript object>"
      ]
     },
     "metadata": {},
     "output_type": "display_data"
    }
   ],
   "source": [
    "# First let's see the difference between a \"full update\" for third_doc\n",
    "# and an update calculated against the state vector of doc\n",
    "full_update = third_doc.begin_transaction().diff_v1()\n",
    "full_update"
   ]
  },
  {
   "cell_type": "code",
   "execution_count": 29,
   "id": "bba820b9",
   "metadata": {},
   "outputs": [
    {
     "name": "stdout",
     "output_type": "stream",
     "text": [
      "called after a transaction (anything changed with the Doc)\n",
      "Before state: b'\\x02\\x99\\x8a\\x8b\\x8f\\x0b\\x03\\x9a\\xbc\\xda\\xb9\\x04\\x06'\n",
      "After state: b'\\x02\\x99\\x8a\\x8b\\x8f\\x0b\\x03\\x9a\\xbc\\xda\\xb9\\x04\\x06'\n",
      "Diff: b'\\x00\\x00'\n",
      "\n"
     ]
    },
    {
     "data": {
      "text/plain": [
       "b'\\x01\\x04\\x9a\\xbc\\xda\\xb9\\x04\\x00D\\x99\\x8a\\x8b\\x8f\\x0b\\x00\\x01b\\xc1\\x9a\\xbc\\xda\\xb9\\x04\\x00\\x99\\x8a\\x8b\\x8f\\x0b\\x00\\x02\\x81\\x99\\x8a\\x8b\\x8f\\x0b\\x02\\x02\\x84\\x9a\\xbc\\xda\\xb9\\x04\\x04\\x013\\x02\\x99\\x8a\\x8b\\x8f\\x0b\\x01\\x00\\x01\\x9a\\xbc\\xda\\xb9\\x04\\x01\\x01\\x04'"
      ]
     },
     "execution_count": 29,
     "metadata": {},
     "output_type": "execute_result"
    },
    {
     "data": {
      "application/javascript": [
       "\n",
       "            setTimeout(function() {\n",
       "                var nbb_cell_id = 29;\n",
       "                var nbb_unformatted_code = \"sv = doc.begin_transaction().state_vector_v1()\\ncomputed_update = third_doc.begin_transaction().diff_v1(sv)\\ncomputed_update\";\n",
       "                var nbb_formatted_code = \"sv = doc.begin_transaction().state_vector_v1()\\ncomputed_update = third_doc.begin_transaction().diff_v1(sv)\\ncomputed_update\";\n",
       "                var nbb_cells = Jupyter.notebook.get_cells();\n",
       "                for (var i = 0; i < nbb_cells.length; ++i) {\n",
       "                    if (nbb_cells[i].input_prompt_number == nbb_cell_id) {\n",
       "                        if (nbb_cells[i].get_text() == nbb_unformatted_code) {\n",
       "                             nbb_cells[i].set_text(nbb_formatted_code);\n",
       "                        }\n",
       "                        break;\n",
       "                    }\n",
       "                }\n",
       "            }, 500);\n",
       "            "
      ],
      "text/plain": [
       "<IPython.core.display.Javascript object>"
      ]
     },
     "metadata": {},
     "output_type": "display_data"
    }
   ],
   "source": [
    "sv = doc.begin_transaction().state_vector_v1()\n",
    "computed_update = third_doc.begin_transaction().diff_v1(sv)\n",
    "computed_update"
   ]
  },
  {
   "cell_type": "code",
   "execution_count": 30,
   "id": "5c2fade8",
   "metadata": {},
   "outputs": [
    {
     "name": "stdout",
     "output_type": "stream",
     "text": [
      "called when a YText data type has changed\n",
      "YTextEvent(target=boo3, delta=[{'insert': 'b'}, {'delete': 1}, {'retain': 2}, {'insert': '3'}], path=[])\n",
      "\n"
     ]
    },
    {
     "data": {
      "text/plain": [
       "YText(boo3)"
      ]
     },
     "execution_count": 30,
     "metadata": {},
     "output_type": "execute_result"
    },
    {
     "data": {
      "application/javascript": [
       "\n",
       "            setTimeout(function() {\n",
       "                var nbb_cell_id = 30;\n",
       "                var nbb_unformatted_code = \"# Let's observe the YText change when applying the computed update\\n# to the original doc. It had text 'foo' to start and should end\\n# up with 'boo3' after the updates are applied.\\ndoc.get_text(\\\"text-key\\\").observe(obs_text)\\ndoc.begin_transaction().apply_v1(computed_update)\\ndoc.get_text(\\\"text-key\\\")\";\n",
       "                var nbb_formatted_code = \"# Let's observe the YText change when applying the computed update\\n# to the original doc. It had text 'foo' to start and should end\\n# up with 'boo3' after the updates are applied.\\ndoc.get_text(\\\"text-key\\\").observe(obs_text)\\ndoc.begin_transaction().apply_v1(computed_update)\\ndoc.get_text(\\\"text-key\\\")\";\n",
       "                var nbb_cells = Jupyter.notebook.get_cells();\n",
       "                for (var i = 0; i < nbb_cells.length; ++i) {\n",
       "                    if (nbb_cells[i].input_prompt_number == nbb_cell_id) {\n",
       "                        if (nbb_cells[i].get_text() == nbb_unformatted_code) {\n",
       "                             nbb_cells[i].set_text(nbb_formatted_code);\n",
       "                        }\n",
       "                        break;\n",
       "                    }\n",
       "                }\n",
       "            }, 500);\n",
       "            "
      ],
      "text/plain": [
       "<IPython.core.display.Javascript object>"
      ]
     },
     "metadata": {},
     "output_type": "display_data"
    }
   ],
   "source": [
    "# Let's observe the YText change when applying the computed update\n",
    "# to the original doc. It had text 'foo' to start and should end\n",
    "# up with 'boo3' after the updates are applied.\n",
    "doc.get_text(\"text-key\").observe(obs_text)\n",
    "doc.begin_transaction().apply_v1(computed_update)\n",
    "doc.get_text(\"text-key\")"
   ]
  },
  {
   "cell_type": "code",
   "execution_count": 31,
   "id": "e3ab8319",
   "metadata": {},
   "outputs": [
    {
     "data": {
      "text/plain": [
       "YText(foo)"
      ]
     },
     "execution_count": 31,
     "metadata": {},
     "output_type": "execute_result"
    },
    {
     "data": {
      "application/javascript": [
       "\n",
       "            setTimeout(function() {\n",
       "                var nbb_cell_id = 31;\n",
       "                var nbb_unformatted_code = \"# as a final test, would it matter if we applied the full update\\n# or the computed update? No, Y-CRDT idempotency means we\\n# can apply the same updates repeatedly and it doesn't break the sync\\nnew_doc.get_text(\\\"text-key\\\").observe(obs_text)\\nnew_doc.get_text(\\\"text-key\\\")\";\n",
       "                var nbb_formatted_code = \"# as a final test, would it matter if we applied the full update\\n# or the computed update? No, Y-CRDT idempotency means we\\n# can apply the same updates repeatedly and it doesn't break the sync\\nnew_doc.get_text(\\\"text-key\\\").observe(obs_text)\\nnew_doc.get_text(\\\"text-key\\\")\";\n",
       "                var nbb_cells = Jupyter.notebook.get_cells();\n",
       "                for (var i = 0; i < nbb_cells.length; ++i) {\n",
       "                    if (nbb_cells[i].input_prompt_number == nbb_cell_id) {\n",
       "                        if (nbb_cells[i].get_text() == nbb_unformatted_code) {\n",
       "                             nbb_cells[i].set_text(nbb_formatted_code);\n",
       "                        }\n",
       "                        break;\n",
       "                    }\n",
       "                }\n",
       "            }, 500);\n",
       "            "
      ],
      "text/plain": [
       "<IPython.core.display.Javascript object>"
      ]
     },
     "metadata": {},
     "output_type": "display_data"
    }
   ],
   "source": [
    "# as a final test, would it matter if we applied the full update\n",
    "# or the computed update? No, Y-CRDT idempotency means we\n",
    "# can apply the same updates repeatedly and it doesn't break the sync\n",
    "new_doc.get_text(\"text-key\").observe(obs_text)\n",
    "new_doc.get_text(\"text-key\")"
   ]
  },
  {
   "cell_type": "code",
   "execution_count": 32,
   "id": "f31a9add",
   "metadata": {},
   "outputs": [
    {
     "name": "stdout",
     "output_type": "stream",
     "text": [
      "called when a YText data type has changed\n",
      "YTextEvent(target=boo3, delta=[{'insert': 'b'}, {'delete': 1}, {'retain': 2}, {'insert': '3'}], path=[])\n",
      "\n"
     ]
    },
    {
     "data": {
      "text/plain": [
       "YText(boo3)"
      ]
     },
     "execution_count": 32,
     "metadata": {},
     "output_type": "execute_result"
    },
    {
     "data": {
      "application/javascript": [
       "\n",
       "            setTimeout(function() {\n",
       "                var nbb_cell_id = 32;\n",
       "                var nbb_unformatted_code = \"new_doc.begin_transaction().apply_v1(full_update)\\nnew_doc.get_text(\\\"text-key\\\")\";\n",
       "                var nbb_formatted_code = \"new_doc.begin_transaction().apply_v1(full_update)\\nnew_doc.get_text(\\\"text-key\\\")\";\n",
       "                var nbb_cells = Jupyter.notebook.get_cells();\n",
       "                for (var i = 0; i < nbb_cells.length; ++i) {\n",
       "                    if (nbb_cells[i].input_prompt_number == nbb_cell_id) {\n",
       "                        if (nbb_cells[i].get_text() == nbb_unformatted_code) {\n",
       "                             nbb_cells[i].set_text(nbb_formatted_code);\n",
       "                        }\n",
       "                        break;\n",
       "                    }\n",
       "                }\n",
       "            }, 500);\n",
       "            "
      ],
      "text/plain": [
       "<IPython.core.display.Javascript object>"
      ]
     },
     "metadata": {},
     "output_type": "display_data"
    }
   ],
   "source": [
    "new_doc.begin_transaction().apply_v1(full_update)\n",
    "new_doc.get_text(\"text-key\")"
   ]
  },
  {
   "cell_type": "code",
   "execution_count": 33,
   "id": "93b808a2",
   "metadata": {},
   "outputs": [
    {
     "data": {
      "text/plain": [
       "YText(boo3)"
      ]
     },
     "execution_count": 33,
     "metadata": {},
     "output_type": "execute_result"
    },
    {
     "data": {
      "application/javascript": [
       "\n",
       "            setTimeout(function() {\n",
       "                var nbb_cell_id = 33;\n",
       "                var nbb_unformatted_code = \"new_doc.begin_transaction().apply_v1(computed_update)\\nnew_doc.get_text(\\\"text-key\\\")\";\n",
       "                var nbb_formatted_code = \"new_doc.begin_transaction().apply_v1(computed_update)\\nnew_doc.get_text(\\\"text-key\\\")\";\n",
       "                var nbb_cells = Jupyter.notebook.get_cells();\n",
       "                for (var i = 0; i < nbb_cells.length; ++i) {\n",
       "                    if (nbb_cells[i].input_prompt_number == nbb_cell_id) {\n",
       "                        if (nbb_cells[i].get_text() == nbb_unformatted_code) {\n",
       "                             nbb_cells[i].set_text(nbb_formatted_code);\n",
       "                        }\n",
       "                        break;\n",
       "                    }\n",
       "                }\n",
       "            }, 500);\n",
       "            "
      ],
      "text/plain": [
       "<IPython.core.display.Javascript object>"
      ]
     },
     "metadata": {},
     "output_type": "display_data"
    }
   ],
   "source": [
    "new_doc.begin_transaction().apply_v1(computed_update)\n",
    "new_doc.get_text(\"text-key\")"
   ]
  },
  {
   "cell_type": "code",
   "execution_count": null,
   "id": "e2d6a6ce",
   "metadata": {},
   "outputs": [],
   "source": []
  }
 ],
 "metadata": {
  "kernelspec": {
   "display_name": "Python 3 (ipykernel)",
   "language": "python",
   "name": "python3"
  },
  "language_info": {
   "codemirror_mode": {
    "name": "ipython",
    "version": 3
   },
   "file_extension": ".py",
   "mimetype": "text/x-python",
   "name": "python",
   "nbconvert_exporter": "python",
   "pygments_lexer": "ipython3",
   "version": "3.9.11"
  }
 },
 "nbformat": 4,
 "nbformat_minor": 5
}
